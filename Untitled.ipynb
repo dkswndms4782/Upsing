{
 "cells": [
  {
   "cell_type": "code",
   "execution_count": 21,
   "id": "62a4b28a-55a4-4d74-8c61-e27831a070f8",
   "metadata": {
    "tags": []
   },
   "outputs": [],
   "source": [
    "import pandas as pd\n",
    "pd.set_option('display.max_columns',None) # 전체 열 출력하기\n",
    "pd.set_option('display.max_rows',None) # 전체 행 출력하기"
   ]
  },
  {
   "cell_type": "code",
   "execution_count": 1,
   "id": "f6b9e533-8b1c-4d47-82a1-c5e0495b12ed",
   "metadata": {
    "tags": []
   },
   "outputs": [],
   "source": [
    "import os\n",
    "import librosa\n",
    "import warnings\n",
    "import numpy as np\n",
    "import pandas as pd\n",
    "import seaborn as sns\n",
    "import scipy.io.wavfile\n",
    "import sounddevice as sd\n",
    "from ast import literal_eval\n",
    "import IPython.display as ipd\n",
    "from matplotlib import rcParams\n",
    "import matplotlib.pyplot as plt\n",
    "from IPython.display import Audio\n",
    "# from IPython.core.display import display\n",
    "%matplotlib inline\n",
    "\n",
    "import pandas as pd\n",
    "pd.set_option('display.max_colwidth', None)\n",
    "\n",
    "teq = pd.read_csv(\"C:/Users/Ahn/projects/upsing/data/teq.csv\",converters={\"sec\":literal_eval}) # sec이 string으로 인식돼서 converters랑 literal_eval이 필요했음\n",
    "\n",
    "voc = pd.read_csv(\"C:/Users/Ahn/projects/upsing/data/voc.csv\",converters={\"sec\":literal_eval}) # sec이 string으로 인식돼서 converters랑 literal_eval이 필요했음"
   ]
  },
  {
   "cell_type": "code",
   "execution_count": 63,
   "id": "2c2a2cd5-0e3e-4786-9f67-510721da17d9",
   "metadata": {
    "tags": []
   },
   "outputs": [
    {
     "data": {
      "text/plain": [
       "array(['Christina_Perri_A_Thousand_Years_2',\n",
       "       'christina_perri_a_thousand_years', 'Feel_My_Rhythm', 'Honesty',\n",
       "       'If_You', 'Letitgo', 'Love_Yourself', 'OMG', 'Rolling_in_the_Deep',\n",
       "       'Snowman', 'Thinking_Out_Loud', 'Thirsty', 'What_Do_I_Call_You',\n",
       "       'When_I_was_your_man', '기다리다', '꽃', '끝', '눈코입', '듣는편지', '봄여름가을겨울',\n",
       "       '사랑했잖아', '스물다섯스물하나', '아로하', '예뻤어', '잠이오질않네요', '처음부터너와나', '첫사랑',\n",
       "       '초록빛', '취기를빌려', 'I_Love_You_3000'], dtype=object)"
      ]
     },
     "execution_count": 63,
     "metadata": {},
     "output_type": "execute_result"
    }
   ],
   "source": [
    "voc.song_name.unique()"
   ]
  },
  {
   "cell_type": "code",
   "execution_count": 65,
   "id": "916a378b-3f23-4474-bf5d-90fa941bde2b",
   "metadata": {
    "tags": []
   },
   "outputs": [],
   "source": [
    "voc_test = ['끝', 'If_You', 'Thinking_Out_Loud', 'Honesty']"
   ]
  },
  {
   "cell_type": "code",
   "execution_count": 68,
   "id": "63ccb7b4-b528-40ea-b075-3a28ab1d0c7a",
   "metadata": {
    "tags": []
   },
   "outputs": [],
   "source": [
    "voc[voc['song_name'].isin(voc_test)].to_csv(\"C:/Users/Ahn/projects/upsing/data/voc_test.csv\", index=False)"
   ]
  },
  {
   "cell_type": "code",
   "execution_count": 69,
   "id": "7c6c6b8c-40fe-4737-86cd-177ca4fc3111",
   "metadata": {
    "tags": []
   },
   "outputs": [
    {
     "data": {
      "text/html": [
       "<div>\n",
       "<style scoped>\n",
       "    .dataframe tbody tr th:only-of-type {\n",
       "        vertical-align: middle;\n",
       "    }\n",
       "\n",
       "    .dataframe tbody tr th {\n",
       "        vertical-align: top;\n",
       "    }\n",
       "\n",
       "    .dataframe thead th {\n",
       "        text-align: right;\n",
       "    }\n",
       "</style>\n",
       "<table border=\"1\" class=\"dataframe\">\n",
       "  <thead>\n",
       "    <tr style=\"text-align: right;\">\n",
       "      <th></th>\n",
       "      <th>sec</th>\n",
       "      <th>song_name</th>\n",
       "    </tr>\n",
       "    <tr>\n",
       "      <th>label</th>\n",
       "      <th></th>\n",
       "      <th></th>\n",
       "    </tr>\n",
       "  </thead>\n",
       "  <tbody>\n",
       "    <tr>\n",
       "      <th>가성</th>\n",
       "      <td>191</td>\n",
       "      <td>191</td>\n",
       "    </tr>\n",
       "    <tr>\n",
       "      <th>믹스드보이스</th>\n",
       "      <td>172</td>\n",
       "      <td>172</td>\n",
       "    </tr>\n",
       "    <tr>\n",
       "      <th>비성</th>\n",
       "      <td>85</td>\n",
       "      <td>85</td>\n",
       "    </tr>\n",
       "    <tr>\n",
       "      <th>흉성</th>\n",
       "      <td>95</td>\n",
       "      <td>95</td>\n",
       "    </tr>\n",
       "  </tbody>\n",
       "</table>\n",
       "</div>"
      ],
      "text/plain": [
       "        sec  song_name\n",
       "label                 \n",
       "가성      191        191\n",
       "믹스드보이스  172        172\n",
       "비성       85         85\n",
       "흉성       95         95"
      ]
     },
     "execution_count": 69,
     "metadata": {},
     "output_type": "execute_result"
    }
   ],
   "source": [
    "pd.read_csv(\"C:/Users/Ahn/projects/upsing/data/voc_train.csv\").groupby('label').count()"
   ]
  },
  {
   "cell_type": "code",
   "execution_count": 70,
   "id": "ded74728-5210-45cb-9b59-d26501755331",
   "metadata": {
    "tags": []
   },
   "outputs": [
    {
     "data": {
      "text/html": [
       "<div>\n",
       "<style scoped>\n",
       "    .dataframe tbody tr th:only-of-type {\n",
       "        vertical-align: middle;\n",
       "    }\n",
       "\n",
       "    .dataframe tbody tr th {\n",
       "        vertical-align: top;\n",
       "    }\n",
       "\n",
       "    .dataframe thead th {\n",
       "        text-align: right;\n",
       "    }\n",
       "</style>\n",
       "<table border=\"1\" class=\"dataframe\">\n",
       "  <thead>\n",
       "    <tr style=\"text-align: right;\">\n",
       "      <th></th>\n",
       "      <th>sec</th>\n",
       "      <th>song_name</th>\n",
       "    </tr>\n",
       "    <tr>\n",
       "      <th>label</th>\n",
       "      <th></th>\n",
       "      <th></th>\n",
       "    </tr>\n",
       "  </thead>\n",
       "  <tbody>\n",
       "    <tr>\n",
       "      <th>가성</th>\n",
       "      <td>227</td>\n",
       "      <td>227</td>\n",
       "    </tr>\n",
       "    <tr>\n",
       "      <th>믹스드보이스</th>\n",
       "      <td>201</td>\n",
       "      <td>201</td>\n",
       "    </tr>\n",
       "    <tr>\n",
       "      <th>비성</th>\n",
       "      <td>102</td>\n",
       "      <td>102</td>\n",
       "    </tr>\n",
       "    <tr>\n",
       "      <th>흉성</th>\n",
       "      <td>112</td>\n",
       "      <td>112</td>\n",
       "    </tr>\n",
       "  </tbody>\n",
       "</table>\n",
       "</div>"
      ],
      "text/plain": [
       "        sec  song_name\n",
       "label                 \n",
       "가성      227        227\n",
       "믹스드보이스  201        201\n",
       "비성      102        102\n",
       "흉성      112        112"
      ]
     },
     "execution_count": 70,
     "metadata": {},
     "output_type": "execute_result"
    }
   ],
   "source": [
    "voc.groupby('label').count()"
   ]
  },
  {
   "cell_type": "code",
   "execution_count": 71,
   "id": "34a9c760-8a31-4681-8e76-f8bda3adec3f",
   "metadata": {
    "tags": []
   },
   "outputs": [
    {
     "data": {
      "text/html": [
       "<div>\n",
       "<style scoped>\n",
       "    .dataframe tbody tr th:only-of-type {\n",
       "        vertical-align: middle;\n",
       "    }\n",
       "\n",
       "    .dataframe tbody tr th {\n",
       "        vertical-align: top;\n",
       "    }\n",
       "\n",
       "    .dataframe thead th {\n",
       "        text-align: right;\n",
       "    }\n",
       "</style>\n",
       "<table border=\"1\" class=\"dataframe\">\n",
       "  <thead>\n",
       "    <tr style=\"text-align: right;\">\n",
       "      <th></th>\n",
       "      <th>sec</th>\n",
       "      <th>song_name</th>\n",
       "    </tr>\n",
       "    <tr>\n",
       "      <th>label</th>\n",
       "      <th></th>\n",
       "      <th></th>\n",
       "    </tr>\n",
       "  </thead>\n",
       "  <tbody>\n",
       "    <tr>\n",
       "      <th>가성</th>\n",
       "      <td>36</td>\n",
       "      <td>36</td>\n",
       "    </tr>\n",
       "    <tr>\n",
       "      <th>믹스드보이스</th>\n",
       "      <td>29</td>\n",
       "      <td>29</td>\n",
       "    </tr>\n",
       "    <tr>\n",
       "      <th>비성</th>\n",
       "      <td>17</td>\n",
       "      <td>17</td>\n",
       "    </tr>\n",
       "    <tr>\n",
       "      <th>흉성</th>\n",
       "      <td>17</td>\n",
       "      <td>17</td>\n",
       "    </tr>\n",
       "  </tbody>\n",
       "</table>\n",
       "</div>"
      ],
      "text/plain": [
       "        sec  song_name\n",
       "label                 \n",
       "가성       36         36\n",
       "믹스드보이스   29         29\n",
       "비성       17         17\n",
       "흉성       17         17"
      ]
     },
     "execution_count": 71,
     "metadata": {},
     "output_type": "execute_result"
    }
   ],
   "source": [
    "pd.read_csv(\"C:/Users/Ahn/projects/upsing/data/voc_test.csv\").groupby('label').count()"
   ]
  },
  {
   "cell_type": "code",
   "execution_count": null,
   "id": "e73886b2-fbc2-4acb-a197-c2753ff92d21",
   "metadata": {},
   "outputs": [],
   "source": []
  }
 ],
 "metadata": {
  "kernelspec": {
   "display_name": "pytorch19_py39",
   "language": "python",
   "name": "pytorch19_py39"
  },
  "language_info": {
   "codemirror_mode": {
    "name": "ipython",
    "version": 3
   },
   "file_extension": ".py",
   "mimetype": "text/x-python",
   "name": "python",
   "nbconvert_exporter": "python",
   "pygments_lexer": "ipython3",
   "version": "3.9.18"
  }
 },
 "nbformat": 4,
 "nbformat_minor": 5
}
