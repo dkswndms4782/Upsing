{
 "cells": [
  {
   "cell_type": "code",
   "execution_count": 1,
   "metadata": {
    "colab": {
     "base_uri": "https://localhost:8080/"
    },
    "executionInfo": {
     "elapsed": 68765,
     "status": "ok",
     "timestamp": 1680239270903,
     "user": {
      "displayName": "DK D",
      "userId": "10687755219747411266"
     },
     "user_tz": -420
    },
    "id": "6wPq53XNthvZ",
    "outputId": "ff60260d-8108-4107-dde1-4bda04b8ea01"
   },
   "outputs": [
    {
     "name": "stdout",
     "output_type": "stream",
     "text": [
      "Mounted at /content/drive/\n",
      "Looking in indexes: https://pypi.org/simple, https://us-python.pkg.dev/colab-wheels/public/simple/\n",
      "Collecting nussl\n",
      "  Downloading nussl-1.1.9-py2.py3-none-any.whl (239 kB)\n",
      "\u001b[2K     \u001b[90m━━━━━━━━━━━━━━━━━━━━━━━━━━━━━━━━━━━━━━━\u001b[0m \u001b[32m239.9/239.9 KB\u001b[0m \u001b[31m5.2 MB/s\u001b[0m eta \u001b[36m0:00:00\u001b[0m\n",
      "\u001b[?25hCollecting pytorch-ignite\n",
      "  Downloading pytorch_ignite-0.4.11-py3-none-any.whl (266 kB)\n",
      "\u001b[2K     \u001b[90m━━━━━━━━━━━━━━━━━━━━━━━━━━━━━━━━━━━━━━\u001b[0m \u001b[32m266.5/266.5 KB\u001b[0m \u001b[31m24.2 MB/s\u001b[0m eta \u001b[36m0:00:00\u001b[0m\n",
      "\u001b[?25hCollecting museval\n",
      "  Downloading museval-0.4.0-py2.py3-none-any.whl (21 kB)\n",
      "Collecting sox\n",
      "  Downloading sox-1.4.1-py2.py3-none-any.whl (39 kB)\n",
      "Collecting musdb\n",
      "  Downloading musdb-0.4.0-py2.py3-none-any.whl (29 kB)\n",
      "Requirement already satisfied: matplotlib in /usr/local/lib/python3.9/dist-packages (from nussl) (3.7.1)\n",
      "Collecting jams\n",
      "  Downloading jams-0.3.4.tar.gz (51 kB)\n",
      "\u001b[2K     \u001b[90m━━━━━━━━━━━━━━━━━━━━━━━━━━━━━━━━━━━━━━━━\u001b[0m \u001b[32m51.3/51.3 KB\u001b[0m \u001b[31m5.6 MB/s\u001b[0m eta \u001b[36m0:00:00\u001b[0m\n",
      "\u001b[?25h  Preparing metadata (setup.py) ... \u001b[?25l\u001b[?25hdone\n",
      "Collecting zarr\n",
      "  Downloading zarr-2.14.2-py3-none-any.whl (203 kB)\n",
      "\u001b[2K     \u001b[90m━━━━━━━━━━━━━━━━━━━━━━━━━━━━━━━━━━━━━━\u001b[0m \u001b[32m203.3/203.3 KB\u001b[0m \u001b[31m20.1 MB/s\u001b[0m eta \u001b[36m0:00:00\u001b[0m\n",
      "\u001b[?25hCollecting termtables\n",
      "  Downloading termtables-0.2.4-py3-none-any.whl (17 kB)\n",
      "Collecting gpytorch\n",
      "  Downloading gpytorch-1.9.1-py3-none-any.whl (250 kB)\n",
      "\u001b[2K     \u001b[90m━━━━━━━━━━━━━━━━━━━━━━━━━━━━━━━━━━━━━━\u001b[0m \u001b[32m250.9/250.9 KB\u001b[0m \u001b[31m21.7 MB/s\u001b[0m eta \u001b[36m0:00:00\u001b[0m\n",
      "\u001b[?25hCollecting ffmpy\n",
      "  Downloading ffmpy-0.3.0.tar.gz (4.8 kB)\n",
      "  Preparing metadata (setup.py) ... \u001b[?25l\u001b[?25hdone\n",
      "Collecting soxbindings>=1.2.2\n",
      "  Downloading soxbindings-1.2.3-cp39-cp39-manylinux2010_x86_64.whl (3.3 MB)\n",
      "\u001b[2K     \u001b[90m━━━━━━━━━━━━━━━━━━━━━━━━━━━━━━━━━━━━━━━━\u001b[0m \u001b[32m3.3/3.3 MB\u001b[0m \u001b[31m28.2 MB/s\u001b[0m eta \u001b[36m0:00:00\u001b[0m\n",
      "\u001b[?25hCollecting norbert\n",
      "  Downloading norbert-0.2.1-py2.py3-none-any.whl (11 kB)\n",
      "Requirement already satisfied: tensorboard in /usr/local/lib/python3.9/dist-packages (from nussl) (2.12.0)\n",
      "Requirement already satisfied: pyyaml in /usr/local/lib/python3.9/dist-packages (from nussl) (6.0)\n",
      "Requirement already satisfied: torch in /usr/local/lib/python3.9/dist-packages (from nussl) (1.13.1+cu116)\n",
      "Requirement already satisfied: importlib-resources in /usr/local/lib/python3.9/dist-packages (from nussl) (5.12.0)\n",
      "Collecting pyloudnorm\n",
      "  Downloading pyloudnorm-0.1.1-py3-none-any.whl (9.6 kB)\n",
      "Requirement already satisfied: librosa in /usr/local/lib/python3.9/dist-packages (from nussl) (0.10.0.post2)\n",
      "Collecting ffmpeg-python\n",
      "  Downloading ffmpeg_python-0.2.0-py3-none-any.whl (25 kB)\n",
      "Requirement already satisfied: tqdm in /usr/local/lib/python3.9/dist-packages (from nussl) (4.65.0)\n",
      "Requirement already satisfied: numpy>=1.9.0 in /usr/local/lib/python3.9/dist-packages (from sox->nussl) (1.22.4)\n",
      "Requirement already satisfied: future in /usr/local/lib/python3.9/dist-packages (from ffmpeg-python->nussl) (0.18.3)\n",
      "Requirement already satisfied: scikit-learn in /usr/local/lib/python3.9/dist-packages (from gpytorch->nussl) (1.2.2)\n",
      "Collecting linear-operator>=0.2.0\n",
      "  Downloading linear_operator-0.3.0-py3-none-any.whl (155 kB)\n",
      "\u001b[2K     \u001b[90m━━━━━━━━━━━━━━━━━━━━━━━━━━━━━━━━━━━━━━\u001b[0m \u001b[32m155.6/155.6 KB\u001b[0m \u001b[31m15.2 MB/s\u001b[0m eta \u001b[36m0:00:00\u001b[0m\n",
      "\u001b[?25hRequirement already satisfied: zipp>=3.1.0 in /usr/local/lib/python3.9/dist-packages (from importlib-resources->nussl) (3.15.0)\n",
      "Requirement already satisfied: pandas in /usr/local/lib/python3.9/dist-packages (from jams->nussl) (1.4.4)\n",
      "Requirement already satisfied: sortedcontainers>=2.0.0 in /usr/local/lib/python3.9/dist-packages (from jams->nussl) (2.4.0)\n",
      "Requirement already satisfied: jsonschema>=3.0.0 in /usr/local/lib/python3.9/dist-packages (from jams->nussl) (4.3.3)\n",
      "Requirement already satisfied: six in /usr/local/lib/python3.9/dist-packages (from jams->nussl) (1.16.0)\n",
      "Requirement already satisfied: decorator in /usr/local/lib/python3.9/dist-packages (from jams->nussl) (4.4.2)\n",
      "Collecting mir_eval>=0.5\n",
      "  Downloading mir_eval-0.7.tar.gz (90 kB)\n",
      "\u001b[2K     \u001b[90m━━━━━━━━━━━━━━━━━━━━━━━━━━━━━━━━━━━━━━━━\u001b[0m \u001b[32m90.7/90.7 KB\u001b[0m \u001b[31m9.2 MB/s\u001b[0m eta \u001b[36m0:00:00\u001b[0m\n",
      "\u001b[?25h  Preparing metadata (setup.py) ... \u001b[?25l\u001b[?25hdone\n",
      "Requirement already satisfied: soundfile>=0.12.1 in /usr/local/lib/python3.9/dist-packages (from librosa->nussl) (0.12.1)\n",
      "Requirement already satisfied: numba>=0.51.0 in /usr/local/lib/python3.9/dist-packages (from librosa->nussl) (0.56.4)\n",
      "Requirement already satisfied: typing-extensions>=4.1.1 in /usr/local/lib/python3.9/dist-packages (from librosa->nussl) (4.5.0)\n",
      "Requirement already satisfied: scipy>=1.2.0 in /usr/local/lib/python3.9/dist-packages (from librosa->nussl) (1.10.1)\n",
      "Requirement already satisfied: lazy-loader>=0.1 in /usr/local/lib/python3.9/dist-packages (from librosa->nussl) (0.2)\n",
      "Requirement already satisfied: pooch<1.7,>=1.0 in /usr/local/lib/python3.9/dist-packages (from librosa->nussl) (1.6.0)\n",
      "Requirement already satisfied: audioread>=2.1.9 in /usr/local/lib/python3.9/dist-packages (from librosa->nussl) (3.0.0)\n",
      "Requirement already satisfied: joblib>=0.14 in /usr/local/lib/python3.9/dist-packages (from librosa->nussl) (1.1.1)\n",
      "Requirement already satisfied: msgpack>=1.0 in /usr/local/lib/python3.9/dist-packages (from librosa->nussl) (1.0.5)\n",
      "Requirement already satisfied: soxr>=0.3.2 in /usr/local/lib/python3.9/dist-packages (from librosa->nussl) (0.3.4)\n",
      "Requirement already satisfied: python-dateutil>=2.7 in /usr/local/lib/python3.9/dist-packages (from matplotlib->nussl) (2.8.2)\n",
      "Requirement already satisfied: contourpy>=1.0.1 in /usr/local/lib/python3.9/dist-packages (from matplotlib->nussl) (1.0.7)\n",
      "Requirement already satisfied: pyparsing>=2.3.1 in /usr/local/lib/python3.9/dist-packages (from matplotlib->nussl) (3.0.9)\n",
      "Requirement already satisfied: packaging>=20.0 in /usr/local/lib/python3.9/dist-packages (from matplotlib->nussl) (23.0)\n",
      "Requirement already satisfied: kiwisolver>=1.0.1 in /usr/local/lib/python3.9/dist-packages (from matplotlib->nussl) (1.4.4)\n",
      "Requirement already satisfied: pillow>=6.2.0 in /usr/local/lib/python3.9/dist-packages (from matplotlib->nussl) (8.4.0)\n",
      "Requirement already satisfied: cycler>=0.10 in /usr/local/lib/python3.9/dist-packages (from matplotlib->nussl) (0.11.0)\n",
      "Requirement already satisfied: fonttools>=4.22.0 in /usr/local/lib/python3.9/dist-packages (from matplotlib->nussl) (4.39.3)\n",
      "Collecting stempeg>=0.2.3\n",
      "  Downloading stempeg-0.2.3-py3-none-any.whl (963 kB)\n",
      "\u001b[2K     \u001b[90m━━━━━━━━━━━━━━━━━━━━━━━━━━━━━━━━━━━━━━\u001b[0m \u001b[32m963.5/963.5 KB\u001b[0m \u001b[31m55.6 MB/s\u001b[0m eta \u001b[36m0:00:00\u001b[0m\n",
      "\u001b[?25hCollecting pyaml\n",
      "  Downloading pyaml-21.10.1-py2.py3-none-any.whl (24 kB)\n",
      "Collecting simplejson\n",
      "  Downloading simplejson-3.18.4-cp39-cp39-manylinux_2_5_x86_64.manylinux1_x86_64.manylinux_2_17_x86_64.manylinux2014_x86_64.whl (136 kB)\n",
      "\u001b[2K     \u001b[90m━━━━━━━━━━━━━━━━━━━━━━━━━━━━━━━━━━━━━━━\u001b[0m \u001b[32m136.8/136.8 KB\u001b[0m \u001b[31m5.4 MB/s\u001b[0m eta \u001b[36m0:00:00\u001b[0m\n",
      "\u001b[?25hRequirement already satisfied: tensorboard-data-server<0.8.0,>=0.7.0 in /usr/local/lib/python3.9/dist-packages (from tensorboard->nussl) (0.7.0)\n",
      "Requirement already satisfied: google-auth<3,>=1.6.3 in /usr/local/lib/python3.9/dist-packages (from tensorboard->nussl) (2.17.0)\n",
      "Requirement already satisfied: setuptools>=41.0.0 in /usr/local/lib/python3.9/dist-packages (from tensorboard->nussl) (67.6.1)\n",
      "Requirement already satisfied: wheel>=0.26 in /usr/local/lib/python3.9/dist-packages (from tensorboard->nussl) (0.40.0)\n",
      "Requirement already satisfied: absl-py>=0.4 in /usr/local/lib/python3.9/dist-packages (from tensorboard->nussl) (1.4.0)\n",
      "Requirement already satisfied: grpcio>=1.48.2 in /usr/local/lib/python3.9/dist-packages (from tensorboard->nussl) (1.53.0)\n",
      "Requirement already satisfied: tensorboard-plugin-wit>=1.6.0 in /usr/local/lib/python3.9/dist-packages (from tensorboard->nussl) (1.8.1)\n",
      "Requirement already satisfied: markdown>=2.6.8 in /usr/local/lib/python3.9/dist-packages (from tensorboard->nussl) (3.4.3)\n",
      "Requirement already satisfied: protobuf>=3.19.6 in /usr/local/lib/python3.9/dist-packages (from tensorboard->nussl) (3.20.3)\n",
      "Requirement already satisfied: requests<3,>=2.21.0 in /usr/local/lib/python3.9/dist-packages (from tensorboard->nussl) (2.27.1)\n",
      "Requirement already satisfied: google-auth-oauthlib<0.5,>=0.4.1 in /usr/local/lib/python3.9/dist-packages (from tensorboard->nussl) (0.4.6)\n",
      "Requirement already satisfied: werkzeug>=1.0.1 in /usr/local/lib/python3.9/dist-packages (from tensorboard->nussl) (2.2.3)\n",
      "Collecting asciitree\n",
      "  Downloading asciitree-0.3.3.tar.gz (4.0 kB)\n",
      "  Preparing metadata (setup.py) ... \u001b[?25l\u001b[?25hdone\n",
      "Collecting numcodecs>=0.10.0\n",
      "  Downloading numcodecs-0.11.0-cp39-cp39-manylinux_2_17_x86_64.manylinux2014_x86_64.whl (6.7 MB)\n",
      "\u001b[2K     \u001b[90m━━━━━━━━━━━━━━━━━━━━━━━━━━━━━━━━━━━━━━━━\u001b[0m \u001b[32m6.7/6.7 MB\u001b[0m \u001b[31m33.2 MB/s\u001b[0m eta \u001b[36m0:00:00\u001b[0m\n",
      "\u001b[?25hCollecting fasteners\n",
      "  Downloading fasteners-0.18-py3-none-any.whl (18 kB)\n",
      "Requirement already satisfied: cachetools<6.0,>=2.0.0 in /usr/local/lib/python3.9/dist-packages (from google-auth<3,>=1.6.3->tensorboard->nussl) (5.3.0)\n",
      "Requirement already satisfied: pyasn1-modules>=0.2.1 in /usr/local/lib/python3.9/dist-packages (from google-auth<3,>=1.6.3->tensorboard->nussl) (0.2.8)\n",
      "Requirement already satisfied: rsa<5,>=3.1.4 in /usr/local/lib/python3.9/dist-packages (from google-auth<3,>=1.6.3->tensorboard->nussl) (4.9)\n",
      "Requirement already satisfied: requests-oauthlib>=0.7.0 in /usr/local/lib/python3.9/dist-packages (from google-auth-oauthlib<0.5,>=0.4.1->tensorboard->nussl) (1.3.1)\n",
      "Requirement already satisfied: attrs>=17.4.0 in /usr/local/lib/python3.9/dist-packages (from jsonschema>=3.0.0->jams->nussl) (22.2.0)\n",
      "Requirement already satisfied: pyrsistent!=0.17.0,!=0.17.1,!=0.17.2,>=0.14.0 in /usr/local/lib/python3.9/dist-packages (from jsonschema>=3.0.0->jams->nussl) (0.19.3)\n",
      "Requirement already satisfied: importlib-metadata>=4.4 in /usr/local/lib/python3.9/dist-packages (from markdown>=2.6.8->tensorboard->nussl) (6.1.0)\n",
      "Requirement already satisfied: llvmlite<0.40,>=0.39.0dev0 in /usr/local/lib/python3.9/dist-packages (from numba>=0.51.0->librosa->nussl) (0.39.1)\n",
      "Requirement already satisfied: entrypoints in /usr/local/lib/python3.9/dist-packages (from numcodecs>=0.10.0->zarr->nussl) (0.4)\n",
      "Requirement already satisfied: pytz>=2020.1 in /usr/local/lib/python3.9/dist-packages (from pandas->jams->nussl) (2022.7.1)\n",
      "Requirement already satisfied: appdirs>=1.3.0 in /usr/local/lib/python3.9/dist-packages (from pooch<1.7,>=1.0->librosa->nussl) (1.4.4)\n",
      "Requirement already satisfied: idna<4,>=2.5 in /usr/local/lib/python3.9/dist-packages (from requests<3,>=2.21.0->tensorboard->nussl) (3.4)\n",
      "Requirement already satisfied: certifi>=2017.4.17 in /usr/local/lib/python3.9/dist-packages (from requests<3,>=2.21.0->tensorboard->nussl) (2022.12.7)\n",
      "Requirement already satisfied: urllib3<1.27,>=1.21.1 in /usr/local/lib/python3.9/dist-packages (from requests<3,>=2.21.0->tensorboard->nussl) (1.26.15)\n",
      "Requirement already satisfied: charset-normalizer~=2.0.0 in /usr/local/lib/python3.9/dist-packages (from requests<3,>=2.21.0->tensorboard->nussl) (2.0.12)\n",
      "Requirement already satisfied: threadpoolctl>=2.0.0 in /usr/local/lib/python3.9/dist-packages (from scikit-learn->gpytorch->nussl) (3.1.0)\n",
      "Requirement already satisfied: cffi>=1.0 in /usr/local/lib/python3.9/dist-packages (from soundfile>=0.12.1->librosa->nussl) (1.15.1)\n",
      "Requirement already satisfied: MarkupSafe>=2.1.1 in /usr/local/lib/python3.9/dist-packages (from werkzeug>=1.0.1->tensorboard->nussl) (2.1.2)\n",
      "Requirement already satisfied: pycparser in /usr/local/lib/python3.9/dist-packages (from cffi>=1.0->soundfile>=0.12.1->librosa->nussl) (2.21)\n",
      "Requirement already satisfied: pyasn1<0.5.0,>=0.4.6 in /usr/local/lib/python3.9/dist-packages (from pyasn1-modules>=0.2.1->google-auth<3,>=1.6.3->tensorboard->nussl) (0.4.8)\n",
      "Requirement already satisfied: oauthlib>=3.0.0 in /usr/local/lib/python3.9/dist-packages (from requests-oauthlib>=0.7.0->google-auth-oauthlib<0.5,>=0.4.1->tensorboard->nussl) (3.2.2)\n",
      "Building wheels for collected packages: ffmpy, jams, mir_eval, asciitree\n",
      "  Building wheel for ffmpy (setup.py) ... \u001b[?25l\u001b[?25hdone\n",
      "  Created wheel for ffmpy: filename=ffmpy-0.3.0-py3-none-any.whl size=4707 sha256=d2cc355b48474082e64f8d42ac811e4a6246e3bae3b3a726330b4d8dc271878a\n",
      "  Stored in directory: /root/.cache/pip/wheels/91/e2/96/f676aa08bfd789328c6576cd0f1fde4a3d686703bb0c247697\n",
      "  Building wheel for jams (setup.py) ... \u001b[?25l\u001b[?25hdone\n",
      "  Created wheel for jams: filename=jams-0.3.4-py3-none-any.whl size=64923 sha256=f2cc526120c3bde93fd386817a9a3d09023c7cfdd442d4fb415cc1db71420fef\n",
      "  Stored in directory: /root/.cache/pip/wheels/3a/30/bd/89f3791651385a3a5f02865508db932f506b26304f0e428593\n",
      "  Building wheel for mir_eval (setup.py) ... \u001b[?25l\u001b[?25hdone\n",
      "  Created wheel for mir_eval: filename=mir_eval-0.7-py3-none-any.whl size=100718 sha256=94b53054e419cb7ba5122f4fc07980acd065e3f2d47d3f2126f637ff72281fc2\n",
      "  Stored in directory: /root/.cache/pip/wheels/e9/f5/d5/eb3db1d056253da195208853842bce745a84b29f44cab59b6c\n",
      "  Building wheel for asciitree (setup.py) ... \u001b[?25l\u001b[?25hdone\n",
      "  Created wheel for asciitree: filename=asciitree-0.3.3-py3-none-any.whl size=5050 sha256=66765cc81cfa71fce48c42536f62d6190d0c8c4851b79df26b9fb24adbdb9404\n",
      "  Stored in directory: /root/.cache/pip/wheels/07/00/bc/937e878be0d781a569792a1e0e5acf149e463d4536453ec978\n",
      "Successfully built ffmpy jams mir_eval asciitree\n",
      "Installing collected packages: ffmpy, asciitree, termtables, sox, simplejson, pyaml, numcodecs, ffmpeg-python, fasteners, zarr, stempeg, soxbindings, pytorch-ignite, pyloudnorm, norbert, mir_eval, linear-operator, musdb, jams, gpytorch, museval, nussl\n",
      "Successfully installed asciitree-0.3.3 fasteners-0.18 ffmpeg-python-0.2.0 ffmpy-0.3.0 gpytorch-1.9.1 jams-0.3.4 linear-operator-0.3.0 mir_eval-0.7 musdb-0.4.0 museval-0.4.0 norbert-0.2.1 numcodecs-0.11.0 nussl-1.1.9 pyaml-21.10.1 pyloudnorm-0.1.1 pytorch-ignite-0.4.11 simplejson-3.18.4 sox-1.4.1 soxbindings-1.2.3 stempeg-0.2.3 termtables-0.2.4 zarr-2.14.2\n",
      "Looking in indexes: https://pypi.org/simple, https://us-python.pkg.dev/colab-wheels/public/simple/\n",
      "Collecting common\n",
      "  Downloading common-0.1.2.tar.gz (3.5 kB)\n",
      "  Preparing metadata (setup.py) ... \u001b[?25l\u001b[?25hdone\n",
      "Building wheels for collected packages: common\n",
      "  Building wheel for common (setup.py) ... \u001b[?25l\u001b[?25hdone\n",
      "  Created wheel for common: filename=common-0.1.2-py3-none-any.whl size=3730 sha256=a5952a6cd6c390e22d9942677e78cfa64b8517cd8966b8bb4218525ec3bdb436\n",
      "  Stored in directory: /root/.cache/pip/wheels/e8/47/55/e457410627fc9bc240b7bc1b014ba196b87195c1757e8a524f\n",
      "Successfully built common\n",
      "Installing collected packages: common\n",
      "Successfully installed common-0.1.2\n"
     ]
    }
   ],
   "source": [
    "from google.colab import drive\n",
    "drive.mount('/content/drive/')\n",
    "from pandas import DataFrame, Series\n",
    "import pandas as pd\n",
    "import glob\n",
    "import re\n",
    "from tqdm import tqdm\n",
    "import torchaudio\n",
    "import numpy as np\n",
    "import itertools\n",
    "import librosa\n",
    "import librosa.display\n",
    "import IPython.display as ipd\n",
    "import matplotlib.pyplot as plt\n",
    "import pickle\n",
    "import os\n",
    "import glob\n",
    "import pandas as pd\n",
    "import tensorflow as tf\n",
    "from tensorflow import keras\n",
    "from tensorflow.keras import layers\n",
    "from tensorflow.keras import Input \n",
    "from tensorflow.keras.layers import Dense, Flatten, MaxPooling2D\n",
    "from keras.models import load_model\n",
    "from IPython.display import Audio\n",
    "from IPython.core.display import display\n",
    "import time\n",
    "\n",
    "!pip install nussl\n",
    "!pip install common"
   ]
  },
  {
   "cell_type": "markdown",
   "metadata": {
    "id": "EMBeuOjU4Ca6"
   },
   "source": [
    "### import fine"
   ]
  },
  {
   "cell_type": "code",
   "execution_count": 2,
   "metadata": {
    "executionInfo": {
     "elapsed": 31297,
     "status": "ok",
     "timestamp": 1680239302190,
     "user": {
      "displayName": "DK D",
      "userId": "10687755219747411266"
     },
     "user_tz": -420
    },
    "id": "DuAU77QMtuPd"
   },
   "outputs": [],
   "source": [
    "fine,sr = librosa.load(\"/content/drive/MyDrive/Startup_Hackathon_Jarvis/fine_data/fine.wav\", sr = 44100)\n",
    "yj_fine,sr = librosa.load(\"/content/drive/MyDrive/Startup_Hackathon_Jarvis/fine_data/yj_fine.wav\", sr = 44100)\n",
    "migyo_fine,sr = librosa.load(\"/content/drive/MyDrive/Startup_Hackathon_Jarvis/fine_data/migyo_fine.wav\", sr = 44100)"
   ]
  },
  {
   "cell_type": "code",
   "execution_count": null,
   "metadata": {
    "id": "rjqyJMyY04ow"
   },
   "outputs": [],
   "source": [
    "Audio(data = fine, rate = sr)"
   ]
  },
  {
   "cell_type": "markdown",
   "metadata": {
    "id": "4t2rodPQ4EUA"
   },
   "source": [
    "# ✅ nussl mr 제거\n",
    "https://source-separation.github.io/tutorial/first_steps/repetition.html#applying-the-masks\n"
   ]
  },
  {
   "cell_type": "code",
   "execution_count": null,
   "metadata": {
    "colab": {
     "base_uri": "https://localhost:8080/"
    },
    "executionInfo": {
     "elapsed": 1165,
     "status": "ok",
     "timestamp": 1680165051393,
     "user": {
      "displayName": "DK D",
      "userId": "10687755219747411266"
     },
     "user_tz": -420
    },
    "id": "dq3Z-glE2zB0",
    "outputId": "ab9ba33b-2b47-456d-8a8f-46354c062b7d"
   },
   "outputs": [
    {
     "name": "stderr",
     "output_type": "stream",
     "text": [
      "WARNING:sox:SoX could not be found!\n",
      "\n",
      "    If you do not have SoX, proceed here:\n",
      "     - - - http://sox.sourceforge.net/ - - -\n",
      "\n",
      "    If you do (or think that you should) have SoX, double-check your\n",
      "    path variables.\n",
      "    \n"
     ]
    }
   ],
   "source": [
    "import nussl\n",
    "signal = nussl.AudioSignal(\n",
    "    audio_data_array=fine, sample_rate=44100)"
   ]
  },
  {
   "cell_type": "code",
   "execution_count": null,
   "metadata": {
    "id": "kmS3CwMkjXaF"
   },
   "outputs": [],
   "source": [
    "import nussl\n",
    "short_signal = nussl.AudioSignal(\n",
    "    audio_data_array=fine[int(5*44100) : int(10*44100)], sample_rate=44100)"
   ]
  },
  {
   "cell_type": "code",
   "execution_count": null,
   "metadata": {
    "id": "D-54EBrlkI9U"
   },
   "outputs": [],
   "source": [
    "import nussl\n",
    "signal_us = nussl.AudioSignal(\n",
    "    audio_data_array=fine[int(5*0.4*44100) : int(6*0.4*44100)], sample_rate=44100)\n",
    "repet = nussl.separation.primitive.FT2D(signal_us)\n",
    "repet_bg, repet_fg = repet()"
   ]
  },
  {
   "cell_type": "markdown",
   "metadata": {
    "id": "W6LgaFlk5h5E"
   },
   "source": [
    "### 1) REPET"
   ]
  },
  {
   "cell_type": "code",
   "execution_count": null,
   "metadata": {
    "colab": {
     "base_uri": "https://localhost:8080/"
    },
    "executionInfo": {
     "elapsed": 6,
     "status": "ok",
     "timestamp": 1680096517675,
     "user": {
      "displayName": "DK D",
      "userId": "10687755219747411266"
     },
     "user_tz": -420
    },
    "id": "X15NaSt_jJjV",
    "outputId": "08f5ea0d-ac35-4ba7-b6e6-40c69caf7997"
   },
   "outputs": [
    {
     "name": "stdout",
     "output_type": "stream",
     "text": [
      "Repet 짧은 오디오 처리 시간 : 0.28232550621032715S\n"
     ]
    }
   ],
   "source": [
    "t1 = time.time()\n",
    "repet = nussl.separation.primitive.Repet(short_signal)\n",
    "repet_bg, repet_fg = repet()\n",
    "t2 = time.time()\n",
    "print(f\"Repet 짧은 오디오 처리 시간 : {t2 -t1}S\")"
   ]
  },
  {
   "cell_type": "code",
   "execution_count": null,
   "metadata": {
    "colab": {
     "base_uri": "https://localhost:8080/"
    },
    "executionInfo": {
     "elapsed": 6,
     "status": "ok",
     "timestamp": 1680094484109,
     "user": {
      "displayName": "DK D",
      "userId": "10687755219747411266"
     },
     "user_tz": -420
    },
    "id": "YGwIq1p0ubrH",
    "outputId": "9bdbac95-911b-4e43-b135-b4a2a1fc95be"
   },
   "outputs": [
    {
     "name": "stdout",
     "output_type": "stream",
     "text": [
      "Repet 처리 시간 : 17.943342924118042\n"
     ]
    }
   ],
   "source": [
    "t1 = time.time()\n",
    "repet = nussl.separation.primitive.Repet(signal)\n",
    "repet_bg, repet_fg = repet()\n",
    "t2 = time.time()\n",
    "print(f\"Repet 처리 시간 : {t2 -t1}S\")"
   ]
  },
  {
   "cell_type": "code",
   "execution_count": null,
   "metadata": {
    "colab": {
     "base_uri": "https://localhost:8080/",
     "height": 75,
     "output_embedded_package_id": "1dFKUCnX4CfUYhGTIaUbzmZIck5-rS_ge"
    },
    "executionInfo": {
     "elapsed": 25629,
     "status": "ok",
     "timestamp": 1680094509734,
     "user": {
      "displayName": "DK D",
      "userId": "10687755219747411266"
     },
     "user_tz": -420
    },
    "id": "ue4udGyc2ppZ",
    "outputId": "96cb187f-933f-467f-baab-444285f2a174"
   },
   "outputs": [
    {
     "data": {
      "text/plain": [
       "Output hidden; open in https://colab.research.google.com to view."
      ]
     },
     "metadata": {},
     "output_type": "display_data"
    }
   ],
   "source": [
    "Audio(data = repet_fg.audio_data, rate = 44100)"
   ]
  },
  {
   "cell_type": "markdown",
   "metadata": {
    "id": "Cuj7JTct3vif"
   },
   "source": [
    "### 2) REPET-SIM"
   ]
  },
  {
   "cell_type": "code",
   "execution_count": null,
   "metadata": {
    "colab": {
     "base_uri": "https://localhost:8080/"
    },
    "executionInfo": {
     "elapsed": 879,
     "status": "ok",
     "timestamp": 1680096559429,
     "user": {
      "displayName": "DK D",
      "userId": "10687755219747411266"
     },
     "user_tz": -420
    },
    "id": "pnOffyJ3joV8",
    "outputId": "92fde9c1-23d7-480f-a49d-6c49ee715743"
   },
   "outputs": [
    {
     "name": "stdout",
     "output_type": "stream",
     "text": [
      "RepetSim 짧은 오디오 처리 시간 : 0.5291290283203125S\n"
     ]
    }
   ],
   "source": [
    "t1 = time.time()\n",
    "repet = nussl.separation.primitive.RepetSim(short_signal)\n",
    "repet_bg, repet_fg = repet()\n",
    "t2 = time.time()\n",
    "print(f\"RepetSim 짧은 오디오 처리 시간 : {t2 -t1}S\")"
   ]
  },
  {
   "cell_type": "code",
   "execution_count": null,
   "metadata": {
    "colab": {
     "base_uri": "https://localhost:8080/"
    },
    "executionInfo": {
     "elapsed": 255903,
     "status": "ok",
     "timestamp": 1680094784529,
     "user": {
      "displayName": "DK D",
      "userId": "10687755219747411266"
     },
     "user_tz": -420
    },
    "id": "-uiFfeOO3Sza",
    "outputId": "794ff8e1-84af-4a63-cfb9-804afc3b18e4"
   },
   "outputs": [
    {
     "name": "stdout",
     "output_type": "stream",
     "text": [
      "RepetSim 처리 시간 : 254.87003684043884S\n"
     ]
    }
   ],
   "source": [
    "t1 = time.time()\n",
    "repet_sim = nussl.separation.primitive.RepetSim(signal)\n",
    "rsim_bg, rsim_fg = repet_sim()\n",
    "t2 = time.time()\n",
    "print(f\"RepetSim 처리 시간 : {t2 -t1}S\")"
   ]
  },
  {
   "cell_type": "code",
   "execution_count": null,
   "metadata": {
    "colab": {
     "base_uri": "https://localhost:8080/",
     "height": 75,
     "output_embedded_package_id": "1ZCmwTw07jr0Oa8n_GQW7D5NyXOY-XwGO"
    },
    "executionInfo": {
     "elapsed": 34388,
     "status": "ok",
     "timestamp": 1680094820785,
     "user": {
      "displayName": "DK D",
      "userId": "10687755219747411266"
     },
     "user_tz": -420
    },
    "id": "P4gLVD1e5pHL",
    "outputId": "bf96f8cc-6867-40fb-9831-b98c4105c5ff"
   },
   "outputs": [
    {
     "data": {
      "text/plain": [
       "Output hidden; open in https://colab.research.google.com to view."
      ]
     },
     "metadata": {},
     "output_type": "display_data"
    }
   ],
   "source": [
    "Audio(data = rsim_fg.audio_data, rate = 44100)"
   ]
  },
  {
   "cell_type": "markdown",
   "metadata": {
    "id": "r_Q_4LNP5reZ"
   },
   "source": [
    "### 3) 2DFT"
   ]
  },
  {
   "cell_type": "code",
   "execution_count": null,
   "metadata": {
    "colab": {
     "base_uri": "https://localhost:8080/"
    },
    "executionInfo": {
     "elapsed": 6,
     "status": "ok",
     "timestamp": 1680143653095,
     "user": {
      "displayName": "DK D",
      "userId": "10687755219747411266"
     },
     "user_tz": -420
    },
    "id": "sLwXD35BjxDV",
    "outputId": "d50b4bed-b398-4d91-f442-401e485f15e1"
   },
   "outputs": [
    {
     "name": "stdout",
     "output_type": "stream",
     "text": [
      "FT2D 짧은 오디오 처리 시간 : 1.5391595363616943S\n"
     ]
    }
   ],
   "source": [
    "t1 = time.time()\n",
    "repet = nussl.separation.primitive.FT2D(short_signal)\n",
    "repet_bg, repet_fg = repet()\n",
    "t2 = time.time()\n",
    "print(f\"FT2D 짧은 오디오 처리 시간 : {t2 -t1}S\")"
   ]
  },
  {
   "cell_type": "code",
   "execution_count": null,
   "metadata": {
    "colab": {
     "base_uri": "https://localhost:8080/"
    },
    "executionInfo": {
     "elapsed": 21608,
     "status": "ok",
     "timestamp": 1680165080676,
     "user": {
      "displayName": "DK D",
      "userId": "10687755219747411266"
     },
     "user_tz": -420
    },
    "id": "3ChzVOmm5uZH",
    "outputId": "e63ff00b-8200-4e06-9dd1-575d451ca366"
   },
   "outputs": [
    {
     "name": "stdout",
     "output_type": "stream",
     "text": [
      "FT2D 처리 시간 : 20.444836854934692S\n"
     ]
    }
   ],
   "source": [
    "t1 = time.time()\n",
    "ft2d = nussl.separation.primitive.FT2D(signal)\n",
    "ft2d_bg, ft2d_fg = ft2d()\n",
    "t2 = time.time()\n",
    "print(f\"FT2D 처리 시간 : {t2 -t1}S\")"
   ]
  },
  {
   "cell_type": "code",
   "execution_count": null,
   "metadata": {
    "colab": {
     "base_uri": "https://localhost:8080/",
     "height": 75,
     "output_embedded_package_id": "1To1ZkE7gc1wLDx-n6SAWa8OLtxp_9UvR"
    },
    "executionInfo": {
     "elapsed": 27138,
     "status": "ok",
     "timestamp": 1680165107813,
     "user": {
      "displayName": "DK D",
      "userId": "10687755219747411266"
     },
     "user_tz": -420
    },
    "id": "RQFRQaES5xBY",
    "outputId": "1b347f27-ab9a-4214-f8f3-22c604bd314c"
   },
   "outputs": [
    {
     "data": {
      "text/plain": [
       "Output hidden; open in https://colab.research.google.com to view."
      ]
     },
     "metadata": {},
     "output_type": "display_data"
    }
   ],
   "source": [
    "Audio(data = ft2d_fg.audio_data, rate = 44100)"
   ]
  },
  {
   "cell_type": "code",
   "execution_count": null,
   "metadata": {
    "colab": {
     "base_uri": "https://localhost:8080/"
    },
    "executionInfo": {
     "elapsed": 4,
     "status": "ok",
     "timestamp": 1680165272026,
     "user": {
      "displayName": "DK D",
      "userId": "10687755219747411266"
     },
     "user_tz": -420
    },
    "id": "Tg9EbeEOXIzP",
    "outputId": "95028f42-9577-4a06-d911-e08cd57a1e90"
   },
   "outputs": [
    {
     "data": {
      "text/plain": [
       "(1, 9251329)"
      ]
     },
     "execution_count": 25,
     "metadata": {},
     "output_type": "execute_result"
    }
   ],
   "source": [
    "ft2d_fg.audio_data.shape"
   ]
  },
  {
   "cell_type": "code",
   "execution_count": null,
   "metadata": {
    "id": "Zax-YmD0ENtT"
   },
   "outputs": [],
   "source": [
    "t1 = time.time()\n",
    "ft2d = nussl.separation.primitive.FT2D(signal)\n",
    "ft2d_bg, ft2d_fg = ft2d()\n",
    "t2 = time.time()\n",
    "print(f\"FT2D 처리 시간 : {t2 -t1}S\")"
   ]
  },
  {
   "cell_type": "markdown",
   "metadata": {
    "id": "seNlZTzn50V5"
   },
   "source": [
    "# ✔ 자동화"
   ]
  },
  {
   "cell_type": "code",
   "execution_count": null,
   "metadata": {
    "id": "_sMwg_smDzWF"
   },
   "outputs": [],
   "source": [
    "import librosa\n",
    "label = {0:\"belt\", 1:\"straight\", 2:\"vibrato\", 3:\"vocal_fry\"}\n",
    "model = load_model(\"/content/drive/MyDrive/Startup_Hackathon_Jarvis/model_weight/custom_vgg16.h5\", compile=False)\n",
    "model.compile(loss='categorical_crossentropy', optimizer=keras.optimizers.Adam(learning_rate=1e-4), metrics=['accuracy'])"
   ]
  },
  {
   "cell_type": "code",
   "execution_count": null,
   "metadata": {
    "colab": {
     "base_uri": "https://localhost:8080/"
    },
    "executionInfo": {
     "elapsed": 93090,
     "status": "ok",
     "timestamp": 1679991814334,
     "user": {
      "displayName": "DK D",
      "userId": "10687755219747411266"
     },
     "user_tz": -420
    },
    "id": "ZtaKkWGBD-Es",
    "outputId": "16171c3c-45fa-4177-9c87-0fe7d08c3ab7"
   },
   "outputs": [
    {
     "name": "stdout",
     "output_type": "stream",
     "text": [
      "1/1 [==============================] - 0s 88ms/step\n",
      "1/1 [==============================] - 0s 105ms/step\n",
      "1/1 [==============================] - 0s 145ms/step\n",
      "1/1 [==============================] - 0s 90ms/step\n",
      "1/1 [==============================] - 0s 89ms/step\n",
      "1/1 [==============================] - 0s 86ms/step\n",
      "1/1 [==============================] - 0s 86ms/step\n",
      "1/1 [==============================] - 0s 80ms/step\n",
      "1/1 [==============================] - 0s 82ms/step\n",
      "1/1 [==============================] - 0s 111ms/step\n",
      "1/1 [==============================] - 0s 85ms/step\n",
      "1/1 [==============================] - 0s 100ms/step\n",
      "1/1 [==============================] - 0s 86ms/step\n",
      "1/1 [==============================] - 0s 88ms/step\n",
      "1/1 [==============================] - 0s 72ms/step\n",
      "1/1 [==============================] - 0s 118ms/step\n",
      "1/1 [==============================] - 0s 113ms/step\n",
      "1/1 [==============================] - 0s 69ms/step\n",
      "1/1 [==============================] - 0s 103ms/step\n",
      "vibrato\n",
      "1/1 [==============================] - 0s 112ms/step\n",
      "vibrato\n",
      "1/1 [==============================] - 0s 109ms/step\n",
      "1/1 [==============================] - 0s 89ms/step\n",
      "1/1 [==============================] - 0s 87ms/step\n",
      "1/1 [==============================] - 0s 84ms/step\n",
      "vibrato\n",
      "1/1 [==============================] - 0s 81ms/step\n",
      "vibrato\n",
      "1/1 [==============================] - 0s 84ms/step\n",
      "vibrato\n",
      "1/1 [==============================] - 0s 81ms/step\n",
      "vibrato\n",
      "1/1 [==============================] - 0s 108ms/step\n",
      "vibrato\n",
      "1/1 [==============================] - 0s 103ms/step\n",
      "1/1 [==============================] - 0s 104ms/step\n",
      "1/1 [==============================] - 0s 102ms/step\n",
      "1/1 [==============================] - 0s 99ms/step\n",
      "1/1 [==============================] - 0s 99ms/step\n",
      "vibrato\n",
      "1/1 [==============================] - 0s 133ms/step\n",
      "1/1 [==============================] - 0s 103ms/step\n",
      "1/1 [==============================] - 0s 95ms/step\n",
      "1/1 [==============================] - 0s 113ms/step\n",
      "1/1 [==============================] - 0s 109ms/step\n",
      "vibrato\n",
      "1/1 [==============================] - 0s 115ms/step\n",
      "1/1 [==============================] - 0s 104ms/step\n",
      "1/1 [==============================] - 0s 106ms/step\n",
      "1/1 [==============================] - 0s 121ms/step\n",
      "1/1 [==============================] - 0s 103ms/step\n",
      "1/1 [==============================] - 0s 103ms/step\n",
      "1/1 [==============================] - 0s 105ms/step\n",
      "vibrato\n",
      "1/1 [==============================] - 0s 74ms/step\n",
      "vibrato\n",
      "1/1 [==============================] - 0s 96ms/step\n",
      "vibrato\n",
      "1/1 [==============================] - 0s 81ms/step\n",
      "vibrato\n",
      "1/1 [==============================] - 0s 81ms/step\n",
      "vibrato\n",
      "1/1 [==============================] - 0s 84ms/step\n",
      "vibrato\n",
      "1/1 [==============================] - 0s 82ms/step\n",
      "1/1 [==============================] - 0s 75ms/step\n",
      "1/1 [==============================] - 0s 82ms/step\n",
      "1/1 [==============================] - 0s 84ms/step\n",
      "1/1 [==============================] - 0s 81ms/step\n",
      "vibrato\n",
      "1/1 [==============================] - 0s 80ms/step\n",
      "vibrato\n",
      "1/1 [==============================] - 0s 80ms/step\n",
      "vibrato\n",
      "1/1 [==============================] - 0s 85ms/step\n",
      "1/1 [==============================] - 0s 78ms/step\n",
      "1/1 [==============================] - 0s 93ms/step\n",
      "1/1 [==============================] - 0s 79ms/step\n",
      "1/1 [==============================] - 0s 88ms/step\n",
      "1/1 [==============================] - 0s 82ms/step\n",
      "1/1 [==============================] - 0s 93ms/step\n",
      "vibrato\n",
      "1/1 [==============================] - 0s 82ms/step\n",
      "vibrato\n",
      "1/1 [==============================] - 0s 89ms/step\n",
      "vibrato\n",
      "1/1 [==============================] - 0s 83ms/step\n",
      "vibrato\n",
      "1/1 [==============================] - 0s 81ms/step\n",
      "vibrato\n",
      "1/1 [==============================] - 0s 77ms/step\n",
      "1/1 [==============================] - 0s 81ms/step\n",
      "1/1 [==============================] - 0s 83ms/step\n",
      "1/1 [==============================] - 0s 84ms/step\n",
      "vibrato\n",
      "1/1 [==============================] - 0s 74ms/step\n",
      "vibrato\n",
      "1/1 [==============================] - 0s 79ms/step\n",
      "vibrato\n",
      "1/1 [==============================] - 0s 87ms/step\n",
      "vibrato\n",
      "1/1 [==============================] - 0s 72ms/step\n",
      "1/1 [==============================] - 0s 72ms/step\n",
      "1/1 [==============================] - 0s 81ms/step\n",
      "1/1 [==============================] - 0s 90ms/step\n",
      "vibrato\n",
      "1/1 [==============================] - 0s 81ms/step\n",
      "1/1 [==============================] - 0s 83ms/step\n",
      "1/1 [==============================] - 0s 84ms/step\n",
      "1/1 [==============================] - 0s 81ms/step\n",
      "vibrato\n",
      "1/1 [==============================] - 0s 79ms/step\n",
      "vibrato\n",
      "1/1 [==============================] - 0s 81ms/step\n",
      "vibrato\n",
      "1/1 [==============================] - 0s 74ms/step\n",
      "vibrato\n",
      "1/1 [==============================] - 0s 87ms/step\n",
      "vibrato\n",
      "1/1 [==============================] - 0s 75ms/step\n",
      "vibrato\n",
      "1/1 [==============================] - 0s 82ms/step\n",
      "vibrato\n",
      "1/1 [==============================] - 0s 86ms/step\n",
      "vibrato\n",
      "1/1 [==============================] - 0s 83ms/step\n",
      "vibrato\n",
      "1/1 [==============================] - 0s 93ms/step\n",
      "vibrato\n",
      "1/1 [==============================] - 0s 81ms/step\n",
      "vibrato\n",
      "1/1 [==============================] - 0s 81ms/step\n",
      "vibrato\n",
      "1/1 [==============================] - 0s 82ms/step\n",
      "vibrato\n",
      "1/1 [==============================] - 0s 82ms/step\n",
      "1/1 [==============================] - 0s 78ms/step\n",
      "1/1 [==============================] - 0s 80ms/step\n",
      "1/1 [==============================] - 0s 70ms/step\n",
      "1/1 [==============================] - 0s 84ms/step\n",
      "vibrato\n",
      "1/1 [==============================] - 0s 84ms/step\n",
      "vibrato\n",
      "1/1 [==============================] - 0s 81ms/step\n",
      "vibrato\n",
      "1/1 [==============================] - 0s 82ms/step\n",
      "vibrato\n",
      "1/1 [==============================] - 0s 79ms/step\n",
      "vibrato\n",
      "1/1 [==============================] - 0s 88ms/step\n",
      "vibrato\n",
      "1/1 [==============================] - 0s 75ms/step\n",
      "1/1 [==============================] - 0s 83ms/step\n",
      "1/1 [==============================] - 0s 99ms/step\n",
      "1/1 [==============================] - 0s 92ms/step\n",
      "vibrato\n",
      "1/1 [==============================] - 0s 94ms/step\n",
      "vibrato\n",
      "1/1 [==============================] - 0s 88ms/step\n",
      "vibrato\n",
      "1/1 [==============================] - 0s 93ms/step\n",
      "vibrato\n",
      "1/1 [==============================] - 0s 96ms/step\n",
      "vibrato\n",
      "1/1 [==============================] - 0s 94ms/step\n",
      "vibrato\n",
      "1/1 [==============================] - 0s 112ms/step\n",
      "vibrato\n",
      "1/1 [==============================] - 0s 136ms/step\n",
      "vibrato\n",
      "1/1 [==============================] - 0s 92ms/step\n",
      "vibrato\n",
      "1/1 [==============================] - 0s 109ms/step\n",
      "vibrato\n",
      "1/1 [==============================] - 0s 102ms/step\n",
      "vibrato\n",
      "1/1 [==============================] - 0s 115ms/step\n",
      "vibrato\n",
      "1/1 [==============================] - 0s 89ms/step\n",
      "vibrato\n",
      "1/1 [==============================] - 0s 97ms/step\n",
      "vibrato\n",
      "1/1 [==============================] - 0s 102ms/step\n",
      "vibrato\n",
      "1/1 [==============================] - 0s 108ms/step\n",
      "vibrato\n",
      "1/1 [==============================] - 0s 104ms/step\n",
      "vibrato\n",
      "1/1 [==============================] - 0s 93ms/step\n",
      "vibrato\n",
      "1/1 [==============================] - 0s 96ms/step\n",
      "vibrato\n",
      "1/1 [==============================] - 0s 111ms/step\n",
      "vibrato\n",
      "1/1 [==============================] - 0s 103ms/step\n",
      "1/1 [==============================] - 0s 76ms/step\n",
      "1/1 [==============================] - 0s 82ms/step\n",
      "1/1 [==============================] - 0s 74ms/step\n",
      "vibrato\n",
      "1/1 [==============================] - 0s 70ms/step\n",
      "vibrato\n",
      "1/1 [==============================] - 0s 90ms/step\n",
      "vibrato\n",
      "1/1 [==============================] - 0s 80ms/step\n",
      "vibrato\n",
      "1/1 [==============================] - 0s 79ms/step\n",
      "vibrato\n",
      "1/1 [==============================] - 0s 87ms/step\n",
      "vibrato\n",
      "1/1 [==============================] - 0s 77ms/step\n",
      "vibrato\n",
      "1/1 [==============================] - 0s 68ms/step\n",
      "vibrato\n",
      "1/1 [==============================] - 0s 79ms/step\n",
      "vibrato\n",
      "1/1 [==============================] - 0s 67ms/step\n",
      "vibrato\n",
      "1/1 [==============================] - 0s 78ms/step\n",
      "vibrato\n",
      "1/1 [==============================] - 0s 79ms/step\n",
      "vibrato\n",
      "1/1 [==============================] - 0s 80ms/step\n",
      "vibrato\n",
      "1/1 [==============================] - 0s 80ms/step\n",
      "vibrato\n",
      "1/1 [==============================] - 0s 86ms/step\n",
      "vibrato\n",
      "1/1 [==============================] - 0s 82ms/step\n",
      "vibrato\n",
      "1/1 [==============================] - 0s 75ms/step\n",
      "vibrato\n",
      "1/1 [==============================] - 0s 80ms/step\n",
      "vibrato\n",
      "1/1 [==============================] - 0s 82ms/step\n",
      "vibrato\n",
      "1/1 [==============================] - 0s 78ms/step\n",
      "1/1 [==============================] - 0s 75ms/step\n",
      "1/1 [==============================] - 0s 72ms/step\n",
      "1/1 [==============================] - 0s 78ms/step\n",
      "vibrato\n",
      "1/1 [==============================] - 0s 77ms/step\n",
      "vibrato\n",
      "1/1 [==============================] - 0s 79ms/step\n",
      "vibrato\n",
      "1/1 [==============================] - 0s 73ms/step\n",
      "1/1 [==============================] - 0s 80ms/step\n",
      "1/1 [==============================] - 0s 83ms/step\n",
      "1/1 [==============================] - 0s 69ms/step\n",
      "1/1 [==============================] - 0s 88ms/step\n",
      "1/1 [==============================] - 0s 79ms/step\n",
      "1/1 [==============================] - 0s 79ms/step\n",
      "vibrato\n",
      "1/1 [==============================] - 0s 79ms/step\n",
      "vibrato\n",
      "1/1 [==============================] - 0s 80ms/step\n",
      "vibrato\n",
      "1/1 [==============================] - 0s 79ms/step\n",
      "vibrato\n",
      "1/1 [==============================] - 0s 68ms/step\n",
      "vibrato\n",
      "1/1 [==============================] - 0s 88ms/step\n",
      "vibrato\n",
      "1/1 [==============================] - 0s 78ms/step\n",
      "vibrato\n",
      "1/1 [==============================] - 0s 73ms/step\n",
      "vibrato\n",
      "1/1 [==============================] - 0s 77ms/step\n",
      "vibrato\n",
      "1/1 [==============================] - 0s 74ms/step\n",
      "vibrato\n",
      "1/1 [==============================] - 0s 81ms/step\n",
      "vibrato\n",
      "1/1 [==============================] - 0s 66ms/step\n",
      "vibrato\n",
      "1/1 [==============================] - 0s 85ms/step\n",
      "vibrato\n",
      "1/1 [==============================] - 0s 80ms/step\n",
      "vibrato\n",
      "1/1 [==============================] - 0s 72ms/step\n",
      "vibrato\n",
      "1/1 [==============================] - 0s 66ms/step\n",
      "vibrato\n",
      "1/1 [==============================] - 0s 72ms/step\n",
      "vibrato\n",
      "1/1 [==============================] - 0s 70ms/step\n",
      "vibrato\n",
      "1/1 [==============================] - 0s 83ms/step\n",
      "vibrato\n",
      "1/1 [==============================] - 0s 78ms/step\n",
      "vibrato\n",
      "1/1 [==============================] - 0s 80ms/step\n",
      "vibrato\n",
      "1/1 [==============================] - 0s 79ms/step\n",
      "vibrato\n",
      "1/1 [==============================] - 0s 86ms/step\n",
      "vibrato\n",
      "1/1 [==============================] - 0s 75ms/step\n",
      "vibrato\n",
      "1/1 [==============================] - 0s 76ms/step\n",
      "vibrato\n",
      "1/1 [==============================] - 0s 83ms/step\n",
      "vibrato\n",
      "1/1 [==============================] - 0s 78ms/step\n",
      "vibrato\n",
      "1/1 [==============================] - 0s 78ms/step\n",
      "vibrato\n",
      "1/1 [==============================] - 0s 80ms/step\n",
      "vibrato\n",
      "1/1 [==============================] - 0s 70ms/step\n",
      "vibrato\n",
      "1/1 [==============================] - 0s 78ms/step\n",
      "vibrato\n",
      "1/1 [==============================] - 0s 80ms/step\n",
      "vibrato\n",
      "1/1 [==============================] - 0s 97ms/step\n",
      "vibrato\n",
      "1/1 [==============================] - 0s 99ms/step\n",
      "1/1 [==============================] - 0s 102ms/step\n",
      "1/1 [==============================] - 0s 93ms/step\n",
      "1/1 [==============================] - 0s 103ms/step\n",
      "vibrato\n",
      "1/1 [==============================] - 0s 83ms/step\n",
      "vibrato\n",
      "1/1 [==============================] - 0s 83ms/step\n",
      "vibrato\n",
      "1/1 [==============================] - 0s 96ms/step\n",
      "vibrato\n",
      "1/1 [==============================] - 0s 93ms/step\n",
      "vibrato\n",
      "1/1 [==============================] - 0s 93ms/step\n",
      "1/1 [==============================] - 0s 90ms/step\n",
      "1/1 [==============================] - 0s 91ms/step\n",
      "1/1 [==============================] - 0s 84ms/step\n",
      "1/1 [==============================] - 0s 112ms/step\n",
      "1/1 [==============================] - 0s 94ms/step\n",
      "1/1 [==============================] - 0s 84ms/step\n",
      "1/1 [==============================] - 0s 88ms/step\n",
      "vibrato\n",
      "1/1 [==============================] - 0s 99ms/step\n",
      "vibrato\n",
      "1/1 [==============================] - 0s 95ms/step\n",
      "vibrato\n",
      "1/1 [==============================] - 0s 85ms/step\n",
      "vibrato\n",
      "1/1 [==============================] - 0s 86ms/step\n",
      "vibrato\n",
      "1/1 [==============================] - 0s 104ms/step\n",
      "vibrato\n",
      "1/1 [==============================] - 0s 84ms/step\n",
      "vibrato\n",
      "1/1 [==============================] - 0s 70ms/step\n",
      "vibrato\n",
      "1/1 [==============================] - 0s 100ms/step\n",
      "vibrato\n",
      "1/1 [==============================] - 0s 81ms/step\n",
      "vibrato\n",
      "1/1 [==============================] - 0s 81ms/step\n",
      "vibrato\n",
      "1/1 [==============================] - 0s 79ms/step\n",
      "vibrato\n",
      "1/1 [==============================] - 0s 78ms/step\n",
      "vibrato\n",
      "1/1 [==============================] - 0s 67ms/step\n",
      "1/1 [==============================] - 0s 77ms/step\n",
      "1/1 [==============================] - 0s 76ms/step\n",
      "1/1 [==============================] - 0s 72ms/step\n",
      "vibrato\n",
      "1/1 [==============================] - 0s 70ms/step\n",
      "vibrato\n",
      "1/1 [==============================] - 0s 82ms/step\n",
      "vibrato\n",
      "1/1 [==============================] - 0s 79ms/step\n",
      "vibrato\n",
      "1/1 [==============================] - 0s 77ms/step\n",
      "vibrato\n",
      "1/1 [==============================] - 0s 84ms/step\n",
      "1/1 [==============================] - 0s 78ms/step\n",
      "1/1 [==============================] - 0s 76ms/step\n",
      "1/1 [==============================] - 0s 77ms/step\n",
      "1/1 [==============================] - 0s 81ms/step\n",
      "1/1 [==============================] - 0s 84ms/step\n",
      "vibrato\n",
      "1/1 [==============================] - 0s 81ms/step\n",
      "vibrato\n",
      "1/1 [==============================] - 0s 90ms/step\n",
      "vibrato\n",
      "1/1 [==============================] - 0s 80ms/step\n",
      "vibrato\n",
      "1/1 [==============================] - 0s 76ms/step\n",
      "vibrato\n",
      "1/1 [==============================] - 0s 78ms/step\n",
      "vibrato\n",
      "1/1 [==============================] - 0s 77ms/step\n",
      "vibrato\n",
      "1/1 [==============================] - 0s 79ms/step\n",
      "vibrato\n",
      "1/1 [==============================] - 0s 78ms/step\n",
      "vibrato\n",
      "1/1 [==============================] - 0s 71ms/step\n",
      "vibrato\n",
      "1/1 [==============================] - 0s 74ms/step\n",
      "vibrato\n",
      "1/1 [==============================] - 0s 82ms/step\n",
      "vibrato\n",
      "1/1 [==============================] - 0s 80ms/step\n",
      "vibrato\n",
      "1/1 [==============================] - 0s 78ms/step\n",
      "vibrato\n",
      "1/1 [==============================] - 0s 80ms/step\n",
      "vibrato\n",
      "1/1 [==============================] - 0s 90ms/step\n",
      "vibrato\n",
      "1/1 [==============================] - 0s 79ms/step\n",
      "vibrato\n",
      "1/1 [==============================] - 0s 81ms/step\n",
      "vibrato\n",
      "1/1 [==============================] - 0s 77ms/step\n",
      "vibrato\n",
      "1/1 [==============================] - 0s 78ms/step\n",
      "vibrato\n",
      "1/1 [==============================] - 0s 74ms/step\n",
      "vibrato\n",
      "1/1 [==============================] - 0s 78ms/step\n",
      "vibrato\n",
      "1/1 [==============================] - 0s 91ms/step\n",
      "vibrato\n",
      "1/1 [==============================] - 0s 79ms/step\n",
      "vibrato\n",
      "1/1 [==============================] - 0s 77ms/step\n",
      "vibrato\n",
      "1/1 [==============================] - 0s 77ms/step\n",
      "1/1 [==============================] - 0s 77ms/step\n",
      "1/1 [==============================] - 0s 77ms/step\n",
      "1/1 [==============================] - 0s 77ms/step\n",
      "vibrato\n",
      "1/1 [==============================] - 0s 76ms/step\n",
      "vibrato\n",
      "1/1 [==============================] - 0s 78ms/step\n",
      "vibrato\n",
      "1/1 [==============================] - 0s 84ms/step\n",
      "vibrato\n",
      "1/1 [==============================] - 0s 87ms/step\n",
      "vibrato\n",
      "1/1 [==============================] - 0s 69ms/step\n",
      "vibrato\n",
      "1/1 [==============================] - 0s 78ms/step\n",
      "vibrato\n",
      "1/1 [==============================] - 0s 77ms/step\n",
      "vibrato\n",
      "1/1 [==============================] - 0s 75ms/step\n",
      "vibrato\n",
      "1/1 [==============================] - 0s 76ms/step\n",
      "vibrato\n",
      "1/1 [==============================] - 0s 71ms/step\n",
      "vibrato\n",
      "1/1 [==============================] - 0s 78ms/step\n",
      "vibrato\n",
      "1/1 [==============================] - 0s 82ms/step\n",
      "vibrato\n",
      "1/1 [==============================] - 0s 76ms/step\n",
      "vibrato\n",
      "1/1 [==============================] - 0s 88ms/step\n",
      "vibrato\n",
      "1/1 [==============================] - 0s 78ms/step\n",
      "vibrato\n",
      "1/1 [==============================] - 0s 86ms/step\n",
      "vibrato\n",
      "1/1 [==============================] - 0s 78ms/step\n",
      "vibrato\n",
      "1/1 [==============================] - 0s 119ms/step\n",
      "vibrato\n",
      "1/1 [==============================] - 0s 102ms/step\n",
      "vibrato\n",
      "1/1 [==============================] - 0s 104ms/step\n",
      "vibrato\n",
      "1/1 [==============================] - 0s 84ms/step\n",
      "vibrato\n",
      "1/1 [==============================] - 0s 91ms/step\n",
      "vibrato\n",
      "1/1 [==============================] - 0s 94ms/step\n",
      "vibrato\n",
      "1/1 [==============================] - 0s 103ms/step\n",
      "vibrato\n",
      "1/1 [==============================] - 0s 87ms/step\n",
      "vibrato\n",
      "1/1 [==============================] - 0s 93ms/step\n",
      "vibrato\n",
      "1/1 [==============================] - 0s 89ms/step\n",
      "vibrato\n",
      "1/1 [==============================] - 0s 88ms/step\n",
      "vibrato\n",
      "1/1 [==============================] - 0s 94ms/step\n",
      "vibrato\n",
      "1/1 [==============================] - 0s 93ms/step\n",
      "vibrato\n",
      "1/1 [==============================] - 0s 99ms/step\n",
      "vibrato\n",
      "1/1 [==============================] - 0s 93ms/step\n",
      "vibrato\n",
      "1/1 [==============================] - 0s 101ms/step\n",
      "vibrato\n",
      "1/1 [==============================] - 0s 105ms/step\n",
      "vibrato\n",
      "1/1 [==============================] - 0s 99ms/step\n",
      "vibrato\n",
      "1/1 [==============================] - 0s 93ms/step\n",
      "vibrato\n",
      "1/1 [==============================] - 0s 97ms/step\n",
      "vibrato\n",
      "1/1 [==============================] - 0s 86ms/step\n",
      "vibrato\n",
      "1/1 [==============================] - 0s 116ms/step\n",
      "vibrato\n",
      "1/1 [==============================] - 0s 78ms/step\n",
      "vibrato\n",
      "1/1 [==============================] - 0s 79ms/step\n",
      "1/1 [==============================] - 0s 78ms/step\n",
      "1/1 [==============================] - 0s 77ms/step\n",
      "1/1 [==============================] - 0s 78ms/step\n",
      "vibrato\n",
      "1/1 [==============================] - 0s 72ms/step\n",
      "vibrato\n",
      "1/1 [==============================] - 0s 78ms/step\n",
      "vibrato\n",
      "1/1 [==============================] - 0s 76ms/step\n",
      "vibrato\n",
      "1/1 [==============================] - 0s 74ms/step\n",
      "vibrato\n",
      "1/1 [==============================] - 0s 81ms/step\n",
      "vibrato\n",
      "1/1 [==============================] - 0s 79ms/step\n",
      "vibrato\n",
      "1/1 [==============================] - 0s 69ms/step\n",
      "vibrato\n",
      "1/1 [==============================] - 0s 74ms/step\n",
      "vibrato\n",
      "1/1 [==============================] - 0s 83ms/step\n",
      "vibrato\n",
      "1/1 [==============================] - 0s 77ms/step\n",
      "vibrato\n",
      "1/1 [==============================] - 0s 78ms/step\n",
      "vibrato\n",
      "1/1 [==============================] - 0s 75ms/step\n",
      "vibrato\n",
      "1/1 [==============================] - 0s 81ms/step\n",
      "vibrato\n",
      "1/1 [==============================] - 0s 75ms/step\n",
      "1/1 [==============================] - 0s 77ms/step\n",
      "1/1 [==============================] - 0s 78ms/step\n",
      "1/1 [==============================] - 0s 70ms/step\n",
      "vibrato\n",
      "1/1 [==============================] - 0s 76ms/step\n",
      "vibrato\n",
      "1/1 [==============================] - 0s 91ms/step\n",
      "vibrato\n",
      "1/1 [==============================] - 0s 89ms/step\n",
      "vibrato\n",
      "1/1 [==============================] - 0s 80ms/step\n",
      "vibrato\n",
      "1/1 [==============================] - 0s 81ms/step\n",
      "vibrato\n",
      "1/1 [==============================] - 0s 77ms/step\n",
      "vibrato\n",
      "1/1 [==============================] - 0s 75ms/step\n",
      "vibrato\n",
      "1/1 [==============================] - 0s 83ms/step\n",
      "vibrato\n",
      "1/1 [==============================] - 0s 74ms/step\n",
      "vibrato\n",
      "1/1 [==============================] - 0s 68ms/step\n",
      "1/1 [==============================] - 0s 77ms/step\n",
      "1/1 [==============================] - 0s 77ms/step\n",
      "1/1 [==============================] - 0s 77ms/step\n",
      "vibrato\n",
      "1/1 [==============================] - 0s 69ms/step\n",
      "vibrato\n",
      "1/1 [==============================] - 0s 78ms/step\n",
      "vibrato\n",
      "1/1 [==============================] - 0s 77ms/step\n",
      "vibrato\n",
      "1/1 [==============================] - 0s 75ms/step\n",
      "vibrato\n",
      "1/1 [==============================] - 0s 75ms/step\n",
      "vibrato\n",
      "1/1 [==============================] - 0s 74ms/step\n",
      "vibrato\n",
      "1/1 [==============================] - 0s 90ms/step\n",
      "vibrato\n",
      "1/1 [==============================] - 0s 69ms/step\n",
      "vibrato\n",
      "1/1 [==============================] - 0s 79ms/step\n",
      "vibrato\n",
      "1/1 [==============================] - 0s 78ms/step\n",
      "vibrato\n",
      "1/1 [==============================] - 0s 76ms/step\n",
      "vibrato\n",
      "1/1 [==============================] - 0s 79ms/step\n",
      "vibrato\n",
      "1/1 [==============================] - 0s 71ms/step\n",
      "vibrato\n",
      "1/1 [==============================] - 0s 82ms/step\n",
      "vibrato\n",
      "1/1 [==============================] - 0s 76ms/step\n",
      "vibrato\n",
      "1/1 [==============================] - 0s 77ms/step\n",
      "vibrato\n",
      "1/1 [==============================] - 0s 103ms/step\n",
      "vibrato\n",
      "1/1 [==============================] - 0s 77ms/step\n",
      "1/1 [==============================] - 0s 71ms/step\n",
      "1/1 [==============================] - 0s 78ms/step\n",
      "1/1 [==============================] - 0s 78ms/step\n",
      "1/1 [==============================] - 0s 79ms/step\n",
      "1/1 [==============================] - 0s 78ms/step\n",
      "1/1 [==============================] - 0s 81ms/step\n",
      "1/1 [==============================] - 0s 71ms/step\n",
      "belt\n",
      "1/1 [==============================] - 0s 77ms/step\n",
      "belt\n",
      "1/1 [==============================] - 0s 80ms/step\n",
      "1/1 [==============================] - 0s 81ms/step\n",
      "1/1 [==============================] - 0s 77ms/step\n",
      "vibrato\n",
      "1/1 [==============================] - 0s 75ms/step\n",
      "1/1 [==============================] - 0s 101ms/step\n",
      "1/1 [==============================] - 0s 100ms/step\n",
      "1/1 [==============================] - 0s 83ms/step\n",
      "1/1 [==============================] - 0s 94ms/step\n",
      "1/1 [==============================] - 0s 96ms/step\n",
      "1/1 [==============================] - 0s 92ms/step\n",
      "vibrato\n",
      "1/1 [==============================] - 0s 89ms/step\n",
      "vibrato\n",
      "1/1 [==============================] - 0s 90ms/step\n",
      "vibrato\n",
      "1/1 [==============================] - 0s 84ms/step\n",
      "vibrato\n",
      "1/1 [==============================] - 0s 104ms/step\n",
      "vibrato\n",
      "1/1 [==============================] - 0s 88ms/step\n",
      "vibrato\n",
      "1/1 [==============================] - 0s 112ms/step\n",
      "vibrato\n",
      "1/1 [==============================] - 0s 96ms/step\n",
      "vibrato\n",
      "1/1 [==============================] - 0s 88ms/step\n",
      "vibrato\n",
      "1/1 [==============================] - 0s 90ms/step\n",
      "1/1 [==============================] - 0s 113ms/step\n",
      "1/1 [==============================] - 0s 121ms/step\n",
      "1/1 [==============================] - 0s 89ms/step\n",
      "vibrato\n",
      "1/1 [==============================] - 0s 118ms/step\n",
      "vibrato\n",
      "1/1 [==============================] - 0s 90ms/step\n",
      "vibrato\n",
      "1/1 [==============================] - 0s 95ms/step\n",
      "vibrato\n",
      "1/1 [==============================] - 0s 92ms/step\n",
      "1/1 [==============================] - 0s 90ms/step\n",
      "1/1 [==============================] - 0s 117ms/step\n",
      "1/1 [==============================] - 0s 67ms/step\n",
      "vibrato\n",
      "1/1 [==============================] - 0s 80ms/step\n",
      "vibrato\n",
      "1/1 [==============================] - 0s 79ms/step\n",
      "vibrato\n",
      "1/1 [==============================] - 0s 78ms/step\n",
      "vibrato\n",
      "1/1 [==============================] - 0s 84ms/step\n",
      "1/1 [==============================] - 0s 81ms/step\n",
      "1/1 [==============================] - 0s 87ms/step\n",
      "belt\n",
      "1/1 [==============================] - 0s 80ms/step\n",
      "1/1 [==============================] - 0s 79ms/step\n",
      "1/1 [==============================] - 0s 78ms/step\n",
      "1/1 [==============================] - 0s 79ms/step\n",
      "1/1 [==============================] - 0s 76ms/step\n",
      "1/1 [==============================] - 0s 78ms/step\n",
      "1/1 [==============================] - 0s 83ms/step\n",
      "vibrato\n",
      "1/1 [==============================] - 0s 79ms/step\n",
      "vibrato\n",
      "1/1 [==============================] - 0s 80ms/step\n",
      "vibrato\n",
      "1/1 [==============================] - 0s 81ms/step\n",
      "1/1 [==============================] - 0s 77ms/step\n",
      "1/1 [==============================] - 0s 75ms/step\n",
      "1/1 [==============================] - 0s 79ms/step\n",
      "1/1 [==============================] - 0s 72ms/step\n",
      "vibrato\n",
      "1/1 [==============================] - 0s 81ms/step\n",
      "1/1 [==============================] - 0s 76ms/step\n",
      "1/1 [==============================] - 0s 74ms/step\n",
      "belt\n",
      "1/1 [==============================] - 0s 77ms/step\n",
      "1/1 [==============================] - 0s 80ms/step\n",
      "1/1 [==============================] - 0s 77ms/step\n",
      "vibrato\n",
      "1/1 [==============================] - 0s 76ms/step\n",
      "vibrato\n",
      "1/1 [==============================] - 0s 75ms/step\n",
      "vibrato\n",
      "1/1 [==============================] - 0s 69ms/step\n",
      "vibrato\n",
      "1/1 [==============================] - 0s 89ms/step\n",
      "vibrato\n",
      "1/1 [==============================] - 0s 70ms/step\n",
      "vibrato\n",
      "1/1 [==============================] - 0s 81ms/step\n",
      "1/1 [==============================] - 0s 83ms/step\n",
      "1/1 [==============================] - 0s 79ms/step\n",
      "belt\n",
      "1/1 [==============================] - 0s 74ms/step\n",
      "1/1 [==============================] - 0s 78ms/step\n",
      "1/1 [==============================] - 0s 76ms/step\n",
      "vibrato\n",
      "1/1 [==============================] - 0s 76ms/step\n",
      "vibrato\n",
      "1/1 [==============================] - 0s 75ms/step\n",
      "1/1 [==============================] - 0s 87ms/step\n",
      "1/1 [==============================] - 0s 79ms/step\n",
      "1/1 [==============================] - 0s 77ms/step\n",
      "1/1 [==============================] - 0s 78ms/step\n",
      "1/1 [==============================] - 0s 72ms/step\n",
      "1/1 [==============================] - 0s 79ms/step\n",
      "vibrato\n",
      "1/1 [==============================] - 0s 68ms/step\n",
      "vibrato\n",
      "1/1 [==============================] - 0s 80ms/step\n",
      "vibrato\n",
      "1/1 [==============================] - 0s 77ms/step\n",
      "vibrato\n",
      "1/1 [==============================] - 0s 73ms/step\n",
      "vibrato\n",
      "1/1 [==============================] - 0s 85ms/step\n",
      "1/1 [==============================] - 0s 77ms/step\n",
      "1/1 [==============================] - 0s 73ms/step\n",
      "1/1 [==============================] - 0s 78ms/step\n",
      "vibrato\n",
      "1/1 [==============================] - 0s 86ms/step\n",
      "vibrato\n",
      "1/1 [==============================] - 0s 85ms/step\n",
      "vibrato\n",
      "1/1 [==============================] - 0s 92ms/step\n",
      "vibrato\n",
      "1/1 [==============================] - 0s 75ms/step\n",
      "vibrato\n",
      "1/1 [==============================] - 0s 77ms/step\n",
      "vibrato\n",
      "1/1 [==============================] - 0s 77ms/step\n",
      "vibrato\n",
      "1/1 [==============================] - 0s 79ms/step\n",
      "vibrato\n",
      "1/1 [==============================] - 0s 67ms/step\n",
      "vibrato\n",
      "1/1 [==============================] - 0s 72ms/step\n",
      "vibrato\n",
      "1/1 [==============================] - 0s 79ms/step\n",
      "vibrato\n",
      "1/1 [==============================] - 0s 76ms/step\n",
      "vibrato\n",
      "1/1 [==============================] - 0s 75ms/step\n",
      "vibrato\n",
      "1/1 [==============================] - 0s 85ms/step\n",
      "vibrato\n",
      "1/1 [==============================] - 0s 104ms/step\n",
      "vibrato\n",
      "1/1 [==============================] - 0s 90ms/step\n",
      "vibrato\n",
      "1/1 [==============================] - 0s 92ms/step\n",
      "vibrato\n",
      "1/1 [==============================] - 0s 85ms/step\n",
      "vibrato\n",
      "1/1 [==============================] - 0s 101ms/step\n",
      "vibrato\n",
      "1/1 [==============================] - 0s 93ms/step\n",
      "vibrato\n",
      "1/1 [==============================] - 0s 92ms/step\n",
      "vibrato\n",
      "1/1 [==============================] - 0s 97ms/step\n",
      "vibrato\n",
      "1/1 [==============================] - 0s 115ms/step\n",
      "vibrato\n",
      "1/1 [==============================] - 0s 117ms/step\n",
      "vibrato\n",
      "1/1 [==============================] - 0s 94ms/step\n",
      "vibrato\n",
      "1/1 [==============================] - 0s 130ms/step\n",
      "vibrato\n",
      "1/1 [==============================] - 0s 95ms/step\n",
      "vibrato\n",
      "1/1 [==============================] - 0s 93ms/step\n",
      "vibrato\n",
      "1/1 [==============================] - 0s 96ms/step\n",
      "vibrato\n",
      "1/1 [==============================] - 0s 95ms/step\n",
      "vibrato\n",
      "1/1 [==============================] - 0s 106ms/step\n",
      "vibrato\n",
      "1/1 [==============================] - 0s 86ms/step\n",
      "vibrato\n",
      "1/1 [==============================] - 0s 96ms/step\n",
      "vibrato\n",
      "1/1 [==============================] - 0s 115ms/step\n",
      "vibrato\n",
      "1/1 [==============================] - 0s 107ms/step\n",
      "vibrato\n",
      "1/1 [==============================] - 0s 66ms/step\n",
      "vibrato\n",
      "1/1 [==============================] - 0s 79ms/step\n",
      "vibrato\n",
      "1/1 [==============================] - 0s 77ms/step\n",
      "vibrato\n",
      "1/1 [==============================] - 0s 79ms/step\n",
      "vibrato\n",
      "1/1 [==============================] - 0s 77ms/step\n",
      "vibrato\n",
      "1/1 [==============================] - 0s 73ms/step\n",
      "vibrato\n",
      "1/1 [==============================] - 0s 79ms/step\n",
      "vibrato\n",
      "1/1 [==============================] - 0s 80ms/step\n",
      "vibrato\n",
      "1/1 [==============================] - 0s 91ms/step\n",
      "vibrato\n",
      "1/1 [==============================] - 0s 85ms/step\n",
      "vibrato\n",
      "1/1 [==============================] - 0s 77ms/step\n",
      "vibrato\n",
      "1/1 [==============================] - 0s 76ms/step\n",
      "vibrato\n",
      "1/1 [==============================] - 0s 84ms/step\n",
      "vibrato\n",
      "1/1 [==============================] - 0s 80ms/step\n",
      "vibrato\n",
      "1/1 [==============================] - 0s 77ms/step\n",
      "vibrato\n",
      "1/1 [==============================] - 0s 85ms/step\n",
      "vibrato\n",
      "1/1 [==============================] - 0s 72ms/step\n",
      "vibrato\n",
      "1/1 [==============================] - 0s 73ms/step\n",
      "vibrato\n",
      "1/1 [==============================] - 0s 76ms/step\n",
      "vibrato\n",
      "1/1 [==============================] - 0s 73ms/step\n",
      "vibrato\n",
      "1/1 [==============================] - 0s 75ms/step\n",
      "vibrato\n",
      "1/1 [==============================] - 0s 74ms/step\n",
      "vibrato\n",
      "1/1 [==============================] - 0s 77ms/step\n",
      "vibrato\n",
      "1/1 [==============================] - 0s 74ms/step\n",
      "vibrato\n",
      "1/1 [==============================] - 0s 73ms/step\n",
      "vibrato\n",
      "1/1 [==============================] - 0s 77ms/step\n",
      "vibrato\n",
      "1/1 [==============================] - 0s 76ms/step\n",
      "vibrato\n",
      "1/1 [==============================] - 0s 75ms/step\n",
      "vibrato\n",
      "1/1 [==============================] - 0s 80ms/step\n",
      "vibrato\n",
      "1/1 [==============================] - 0s 77ms/step\n",
      "vibrato\n",
      "1/1 [==============================] - 0s 78ms/step\n",
      "vibrato\n",
      "1/1 [==============================] - 0s 76ms/step\n",
      "vibrato\n",
      "1/1 [==============================] - 0s 67ms/step\n",
      "1/1 [==============================] - 0s 78ms/step\n",
      "1/1 [==============================] - 0s 78ms/step\n",
      "1/1 [==============================] - 0s 84ms/step\n",
      "1/1 [==============================] - 0s 78ms/step\n",
      "1/1 [==============================] - 0s 79ms/step\n",
      "1/1 [==============================] - 0s 80ms/step\n",
      "1/1 [==============================] - 0s 81ms/step\n",
      "1/1 [==============================] - 0s 78ms/step\n",
      "1/1 [==============================] - 0s 75ms/step\n",
      "1/1 [==============================] - 0s 73ms/step\n"
     ]
    }
   ],
   "source": [
    "idx = 0\n",
    "info = []\n",
    "data = ft2d_fg.audio_data\n",
    "techniques = []\n",
    "while (idx+1)*0.4 < (9251329/44100):\n",
    "  x, _ = librosa.magphase(data[0][int(idx*0.4*44100) : int((idx+1)*0.4*44100)])\n",
    "  ret = librosa.feature.melspectrogram(y=x, sr=44100)\n",
    "  amp = librosa.amplitude_to_db(np.abs(ret))\n",
    "  amp_re = tf.reshape(amp, [-1, amp.shape[0], amp.shape[1], 1])\n",
    "  result = model.predict(amp_re)\n",
    "  info.append({\"idx\" : idx, \"predict\" : np.argmax(result)})\n",
    "\n",
    "  if idx >= 2: \n",
    "    if info[idx][\"predict\"] == info[idx-1][\"predict\"] and info[idx][\"predict\"] == info[idx-2][\"predict\"] and info[idx][\"predict\"] != 1:\n",
    "      print(label.get(np.argmax(result)))\n",
    "      techniques.append({\"idx\" : idx, \"label\" : label.get(np.argmax(result))})\n",
    "  idx+=1\n"
   ]
  },
  {
   "cell_type": "code",
   "execution_count": null,
   "metadata": {
    "colab": {
     "base_uri": "https://localhost:8080/"
    },
    "executionInfo": {
     "elapsed": 360,
     "status": "ok",
     "timestamp": 1679991888971,
     "user": {
      "displayName": "DK D",
      "userId": "10687755219747411266"
     },
     "user_tz": -420
    },
    "id": "GUKjVab2E6Vg",
    "outputId": "bf86ef7a-ac2c-4c9c-fe40-e7a69cfa3f7e"
   },
   "outputs": [
    {
     "data": {
      "text/plain": [
       "360"
      ]
     },
     "execution_count": 77,
     "metadata": {},
     "output_type": "execute_result"
    }
   ],
   "source": [
    "len(techniques) # 총 524중 360구간이 저장됐는데 다 vibrato네,, "
   ]
  },
  {
   "cell_type": "code",
   "execution_count": null,
   "metadata": {
    "colab": {
     "base_uri": "https://localhost:8080/"
    },
    "executionInfo": {
     "elapsed": 588,
     "status": "ok",
     "timestamp": 1679991232208,
     "user": {
      "displayName": "DK D",
      "userId": "10687755219747411266"
     },
     "user_tz": -420
    },
    "id": "07KjHj1GRzYq",
    "outputId": "0f6c0077-c741-4638-a7f7-411da1ff99b9"
   },
   "outputs": [
    {
     "name": "stdout",
     "output_type": "stream",
     "text": [
      "524\n"
     ]
    }
   ],
   "source": [
    "print(idx)"
   ]
  },
  {
   "cell_type": "markdown",
   "metadata": {
    "id": "qYzgmwx-R8jg"
   },
   "source": [
    "# Fine Data"
   ]
  },
  {
   "cell_type": "code",
   "execution_count": null,
   "metadata": {
    "id": "GQJ3bK4Ja--a"
   },
   "outputs": [],
   "source": [
    "# \"belt\": 0, \"straight\": 1, \"vibrato\": 2, \"vocal_fry\": 3\n",
    "sec = [[5,6], [8,9], [13, 14], [16,17], [17,18], [19,20], [25, 26], [27, 28], [28, 29], [30, 31], [32,33], [36,37], [38,39], [47,48], [49,50], [52,53], [58,59],\n",
    "       [74,75], [79,80], [80,81], [85,86], [89,90], [93, 94],[95,95.5],[95.5,96], [96,97], [98,99], [99,100], [102,103], [104,105], [107,108], [113,114], [115,116],[118,119], [124,125],\n",
    "       [141,142], [146,147],[148,149],[153,154],[160,160.5],[162,163],[170,171],[173,174]]\n",
    "\n",
    "pre_sec = [[6.1,6.5],[9.1,9.5],[13.2,13.6],[16.8,17.2],[17.2,17.6],[20.1,20.5],[25.3,25.7],[27.8,28.2],[29.2,29.6],[30.6,31],[32.1,32.5],\n",
    "           [36.1,36.5],[38.9,39.3],[47.5,47.9],[49.8,50.2],[52.2,52.6],[58.6,59.0],\n",
    "           [74.6,75.0],[80.0,80.4],[80.3,80.7],[85.6,86.0],[89.8,90.2],[94.1,94.5],[95.4,95.8],[96.0,96.4],[96.9,97.3],[98.2,98.6],[99.5,99.9],[102.5,102.9],[105.1,105.5],[107.0,107.4],[113.7,114.1],[116.0,116.4],[118.4,118.8],[124.8,125.2],\n",
    "           [141.7,142.1],[146.7,147.1],[148.9,149.3],[153.5,153.9],[160.3,160.7],[162.6,163.0],[171.2,171.6],[173.9,174.3]]\n",
    "label = [\"vocal_fry\",\"vocal_fry\",\"vocal_fry\",\"vocal_fry\",\"vocal_fry\",\"vocal_fry\",\"vibrato\",\"belt\",'belt','belt','vibrato','vibrato', 'belt','vibrato','belt','belt','vibrato',\n",
    "         \"vocal_fry\",\"vocal_fry\",\"vibrato\",\"vocal_fry\",\"vocal_fry\",'belt','belt',\"vocal_fry\",'belt','vibrato', \"vocal_fry\",'belt','belt','belt','vibrato','belt','belt','vibrato',\n",
    "         \"vocal_fry\", 'vibrato','vibrato','vibrato',\n",
    "         'belt','belt','belt','belt']"
   ]
  },
  {
   "cell_type": "code",
   "execution_count": null,
   "metadata": {
    "id": "LOVfwKk9a_ox"
   },
   "outputs": [],
   "source": [
    "# 정확한 0.4초 확인하기 위한 코드\n",
    "for i in sec[42:]:\n",
    "  a,b = i[0],i[1]+1\n",
    "  display(Audio(data = fine[int((a)*44100) : int((b)*44100)], rate = 44100))\n",
    "  idx = 0\n",
    "  while a+idx+0.4 <= b:\n",
    "    print(a+idx)\n",
    "    print(a+idx+0.4)\n",
    "    display(Audio(data = fine[int((a+idx)*44100) : int((a+idx+0.4)*44100)], rate = 44100))\n",
    "    idx+=0.1\n",
    "  break "
   ]
  },
  {
   "cell_type": "code",
   "execution_count": null,
   "metadata": {
    "id": "nS2xdL9_a_xx"
   },
   "outputs": [],
   "source": [
    "fine_with_mr = []\n",
    "for i in pre_sec:\n",
    "  print(i)\n",
    "  fine_with_mr.append(fine[int(i[0]*44100) : int(i[1]*44100)])\n",
    "original_df = pd.DataFrame({\"data\" : fine_with_mr,\"label\" : label})  "
   ]
  },
  {
   "cell_type": "code",
   "execution_count": null,
   "metadata": {
    "id": "uhOVDrEFa_0c"
   },
   "outputs": [],
   "source": [
    "# original_df.to_pickle(\"/content/drive/MyDrive/Startup_Hackathon_Jarvis/fine_data/fine_mr.pkl\")  "
   ]
  },
  {
   "cell_type": "code",
   "execution_count": null,
   "metadata": {
    "colab": {
     "base_uri": "https://localhost:8080/"
    },
    "executionInfo": {
     "elapsed": 5,
     "status": "ok",
     "timestamp": 1680165395265,
     "user": {
      "displayName": "DK D",
      "userId": "10687755219747411266"
     },
     "user_tz": -420
    },
    "id": "NV1cmG7op6R_",
    "outputId": "953430f1-6ff1-4927-920c-c99fc989dad4"
   },
   "outputs": [
    {
     "data": {
      "text/plain": [
       "9251329"
      ]
     },
     "execution_count": 33,
     "metadata": {},
     "output_type": "execute_result"
    }
   ],
   "source": [
    "len(ft2d_fg.audio_data[0])"
   ]
  },
  {
   "cell_type": "code",
   "execution_count": null,
   "metadata": {
    "id": "2pBrFzCGpSI6"
   },
   "outputs": [],
   "source": [
    "fine_without_mr = []\n",
    "for i in pre_sec:\n",
    "  fine_without_mr.append(ft2d_fg.audio_data[0][int(i[0]*44100) : int(i[1]*44100)])\n",
    "no_mr_df = pd.DataFrame({\"data\" : fine_without_mr,\"label\" : label})  \n",
    "\n",
    "no_mr_df.to_pickle(\"/content/drive/MyDrive/Startup_Hackathon_Jarvis/fine_data/fine_vocal.pkl\")  "
   ]
  },
  {
   "cell_type": "code",
   "execution_count": null,
   "metadata": {
    "id": "aAmlVoHX6Ibg"
   },
   "outputs": [],
   "source": [
    "for i in fine_without_mr:\n",
    "  display(Audio(data = i, rate = 44100))"
   ]
  },
  {
   "cell_type": "markdown",
   "metadata": {
    "id": "YeMEHw-_qZiO"
   },
   "source": [
    "# 성능 테스트"
   ]
  },
  {
   "cell_type": "code",
   "execution_count": null,
   "metadata": {
    "id": "0erbO5D5rkKC"
   },
   "outputs": [],
   "source": [
    "fine_with_mr = pd.read_pickle(\"/content/drive/MyDrive/Startup_Hackathon_Jarvis/fine_data/fine_mr.pkl\")  \n",
    "fine_without_mr = pd.read_pickle(\"/content/drive/MyDrive/Startup_Hackathon_Jarvis/fine_data/fine_vocal.pkl\")"
   ]
  },
  {
   "cell_type": "code",
   "execution_count": null,
   "metadata": {
    "id": "RzZY8Z_jsO7l"
   },
   "outputs": [],
   "source": [
    "model = load_model(\"/content/drive/MyDrive/Startup_Hackathon_Jarvis/model_weight/custom_vgg16.h5\", compile=False)\n",
    "model.compile(loss='categorical_crossentropy', optimizer=keras.optimizers.Adam(learning_rate=1e-4), metrics=['accuracy'])\n",
    "# result = model.predict(amp_re)"
   ]
  },
  {
   "cell_type": "code",
   "execution_count": null,
   "metadata": {
    "id": "3NbjFgBSs0nz"
   },
   "outputs": [],
   "source": [
    "def processing(data):\n",
    "  #data, _ = librosa.magphase(data)\n",
    "  ret = librosa.feature.melspectrogram(y=data, sr=44100)\n",
    "  amp = librosa.amplitude_to_db(np.abs(ret))\n",
    "  # print(amp.shape)\n",
    "  return amp"
   ]
  },
  {
   "cell_type": "code",
   "execution_count": null,
   "metadata": {
    "id": "b_UREvyus_Gr"
   },
   "outputs": [],
   "source": [
    "with_mr = []\n",
    "for i in fine_with_mr.data:\n",
    "  with_mr.append(processing(i))\n",
    "with_mr = tf.reshape(with_mr, [-1, with_mr[0].shape[0], with_mr[0].shape[1], 1])"
   ]
  },
  {
   "cell_type": "code",
   "execution_count": null,
   "metadata": {
    "id": "gU1oPlGdtRAA"
   },
   "outputs": [],
   "source": [
    "without_mr = []\n",
    "for i in fine_without_mr.data:\n",
    "  without_mr.append(processing(i))\n",
    "without_mr = tf.reshape(without_mr, [-1, without_mr[0].shape[0], without_mr[0].shape[1], 1])"
   ]
  },
  {
   "cell_type": "code",
   "execution_count": null,
   "metadata": {
    "id": "FrdhmSLzwOry"
   },
   "outputs": [],
   "source": [
    "from sklearn.preprocessing import LabelEncoder\n",
    "from keras.utils import to_categorical\n",
    "le = LabelEncoder()\n",
    "le.fit(['belt', 'straight', 'vibrato', 'vocal_fry'])\n",
    "with_mr_label = to_categorical(le.transform(np.array(fine_with_mr.label)))\n",
    "without_mr_label = to_categorical(le.transform(np.array(fine_without_mr.label)))"
   ]
  },
  {
   "cell_type": "code",
   "execution_count": null,
   "metadata": {
    "id": "JTppfJuXxLiC"
   },
   "outputs": [],
   "source": [
    "with_mr"
   ]
  },
  {
   "cell_type": "code",
   "execution_count": null,
   "metadata": {
    "colab": {
     "base_uri": "https://localhost:8080/"
    },
    "executionInfo": {
     "elapsed": 4841,
     "status": "ok",
     "timestamp": 1680178965653,
     "user": {
      "displayName": "DK D",
      "userId": "10687755219747411266"
     },
     "user_tz": -420
    },
    "id": "T3TxiWPcuqc6",
    "outputId": "ad56b717-7007-4955-bb50-09e230f8a425"
   },
   "outputs": [
    {
     "name": "stdout",
     "output_type": "stream",
     "text": [
      "2/2 [==============================] - 3s 471ms/step - loss: 4.2349 - accuracy: 0.2791\n",
      "2/2 [==============================] - 1s 363ms/step - loss: 3.1548 - accuracy: 0.2093\n"
     ]
    },
    {
     "data": {
      "text/plain": [
       "[3.154789447784424, 0.20930232107639313]"
      ]
     },
     "execution_count": 104,
     "metadata": {},
     "output_type": "execute_result"
    }
   ],
   "source": [
    "# custom_vgg16.h5모델 결과\n",
    "# with mr : loss: 4.2349 - accuracy: 0.2791\n",
    "# without mr : loss: 3.1548 - accuracy: 0.2093\n",
    "model.evaluate(with_mr,with_mr_label)\n",
    "model.evaluate(without_mr, without_mr_label)"
   ]
  },
  {
   "cell_type": "code",
   "execution_count": null,
   "metadata": {
    "id": "q4RiiwPxvmwS"
   },
   "outputs": [],
   "source": []
  }
 ],
 "metadata": {
  "colab": {
   "authorship_tag": "ABX9TyP32xf7Ek+YIhEd5aG7slgi",
   "collapsed_sections": [
    "EMBeuOjU4Ca6",
    "4t2rodPQ4EUA",
    "seNlZTzn50V5",
    "qYzgmwx-R8jg"
   ],
   "provenance": []
  },
  "gpuClass": "standard",
  "kernelspec": {
   "display_name": "Python 3 (ipykernel)",
   "language": "python",
   "name": "python3"
  },
  "language_info": {
   "codemirror_mode": {
    "name": "ipython",
    "version": 3
   },
   "file_extension": ".py",
   "mimetype": "text/x-python",
   "name": "python",
   "nbconvert_exporter": "python",
   "pygments_lexer": "ipython3",
   "version": "3.9.18"
  }
 },
 "nbformat": 4,
 "nbformat_minor": 4
}
