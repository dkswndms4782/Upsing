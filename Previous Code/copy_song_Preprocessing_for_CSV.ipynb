{
 "cells": [
  {
   "cell_type": "markdown",
   "id": "3f4d6ad5-6e75-45cb-bec7-33879e41d87b",
   "metadata": {},
   "source": [
    "### 1. 발음 확인 후 csv에 추가"
   ]
  },
  {
   "cell_type": "code",
   "execution_count": 1,
   "id": "980f4f17-9923-4dbf-b7c7-8089208e2356",
   "metadata": {
    "tags": []
   },
   "outputs": [
    {
     "ename": "NameError",
     "evalue": "name 'np' is not defined",
     "output_type": "error",
     "traceback": [
      "\u001b[1;31m---------------------------------------------------------------------------\u001b[0m",
      "\u001b[1;31mNameError\u001b[0m                                 Traceback (most recent call last)",
      "Cell \u001b[1;32mIn[1], line 2\u001b[0m\n\u001b[0;32m      1\u001b[0m ly_arr \u001b[38;5;241m=\u001b[39m[\u001b[38;5;124m\"\u001b[39m\u001b[38;5;124m뒤찝어\u001b[39m\u001b[38;5;124m\"\u001b[39m,\u001b[38;5;124m\"\u001b[39m\u001b[38;5;124m네이이이이이\u001b[39m\u001b[38;5;124m\"\u001b[39m, \u001b[38;5;124m\"\u001b[39m\u001b[38;5;124m쏙\u001b[39m\u001b[38;5;124m\"\u001b[39m, \u001b[38;5;124m\"\u001b[39m\u001b[38;5;124m이 빰은 멋찌꼬우\u001b[39m\u001b[38;5;124m\"\u001b[39m, \n\u001b[1;32m----> 2\u001b[0m  \u001b[43mnp\u001b[49m\u001b[38;5;241m.\u001b[39mNaN, \u001b[38;5;124m\"\u001b[39m\u001b[38;5;124mtoder don\u001b[39m\u001b[38;5;124m\"\u001b[39m, \u001b[38;5;124m\"\u001b[39m\u001b[38;5;124mpaitiencce\u001b[39m\u001b[38;5;124m\"\u001b[39m, \u001b[38;5;124m\"\u001b[39m\u001b[38;5;124mhapbhen\u001b[39m\u001b[38;5;124m\"\u001b[39m,  \u001b[38;5;124m\"\u001b[39m\u001b[38;5;124mwouuunt\u001b[39m\u001b[38;5;124m\"\u001b[39m, \u001b[38;5;124m\"\u001b[39m\u001b[38;5;124mhur\u001b[39m\u001b[38;5;124m\"\u001b[39m, \n\u001b[0;32m      3\u001b[0m \u001b[38;5;124m\"\u001b[39m\u001b[38;5;124md\u001b[39m\u001b[38;5;124m\"\u001b[39m, \u001b[38;5;124m\"\u001b[39m\u001b[38;5;124mtoo be\u001b[39m\u001b[38;5;124m\"\u001b[39m, \u001b[38;5;124m\"\u001b[39m\u001b[38;5;124ma\u001b[39m\u001b[38;5;124m\"\u001b[39m, \u001b[38;5;124m\"\u001b[39m\u001b[38;5;124maanit looks like imma queen\u001b[39m\u001b[38;5;124m\"\u001b[39m, \u001b[38;5;124m\"\u001b[39m\u001b[38;5;124mfuhhny\u001b[39m\u001b[38;5;124m\"\u001b[39m, \u001b[38;5;124m\"\u001b[39m\u001b[38;5;124meeeverything\u001b[39m\u001b[38;5;124m\"\u001b[39m,\u001b[38;5;124m\"\u001b[39m\u001b[38;5;124mfeehars\u001b[39m\u001b[38;5;124m\"\u001b[39m, \u001b[38;5;124m\"\u001b[39m\u001b[38;5;124mpouwer\u001b[39m\u001b[38;5;124m\"\u001b[39m, \n\u001b[0;32m      4\u001b[0m  \u001b[38;5;124m\"\u001b[39m\u001b[38;5;124m난\u001b[39m\u001b[38;5;124m\"\u001b[39m, \u001b[38;5;124m\"\u001b[39m\u001b[38;5;124m뻬이비\u001b[39m\u001b[38;5;124m\"\u001b[39m, \u001b[38;5;124m\"\u001b[39m\u001b[38;5;124m더\u001b[39m\u001b[38;5;124m\"\u001b[39m, \u001b[38;5;124m\"\u001b[39m\u001b[38;5;124m아아\u001b[39m\u001b[38;5;124m\"\u001b[39m, \u001b[38;5;124m\"\u001b[39m\u001b[38;5;124m네버\u001b[39m\u001b[38;5;124m\"\u001b[39m,\u001b[38;5;124m\"\u001b[39m\u001b[38;5;124m꼬\u001b[39m\u001b[38;5;124m\"\u001b[39m, \u001b[38;5;124m\"\u001b[39m\u001b[38;5;124m뽀우\u001b[39m\u001b[38;5;124m\"\u001b[39m, \u001b[38;5;124m\"\u001b[39m\u001b[38;5;124m롴\u001b[39m\u001b[38;5;124m\"\u001b[39m, \u001b[38;5;124m\"\u001b[39m\u001b[38;5;124m나앜\u001b[39m\u001b[38;5;124m\"\u001b[39m, \u001b[38;5;124m\"\u001b[39m\u001b[38;5;124m다하\u001b[39m\u001b[38;5;124m\"\u001b[39m, \u001b[38;5;124m\"\u001b[39m\u001b[38;5;124m렄\u001b[39m\u001b[38;5;124m\"\u001b[39m, \u001b[38;5;124m\"\u001b[39m\u001b[38;5;124m더\u001b[39m\u001b[38;5;124m\"\u001b[39m, \u001b[38;5;124m\"\u001b[39m\u001b[38;5;124m네버\u001b[39m\u001b[38;5;124m\"\u001b[39m, \u001b[38;5;124m\"\u001b[39m\u001b[38;5;124m뽀우\u001b[39m\u001b[38;5;124m\"\u001b[39m, \u001b[38;5;124m\"\u001b[39m\u001b[38;5;124m롴\u001b[39m\u001b[38;5;124m\"\u001b[39m ,\u001b[38;5;124m\"\u001b[39m\u001b[38;5;124m다하\u001b[39m\u001b[38;5;124m\"\u001b[39m,\u001b[38;5;124m\"\u001b[39m\u001b[38;5;124m끄치\u001b[39m\u001b[38;5;124m\"\u001b[39m, \u001b[38;5;124m\"\u001b[39m\u001b[38;5;124m뻬이비\u001b[39m\u001b[38;5;124m\"\u001b[39m, \u001b[38;5;124m\"\u001b[39m\u001b[38;5;124m뻬이비\u001b[39m\u001b[38;5;124m\"\u001b[39m,\u001b[38;5;124m\"\u001b[39m\u001b[38;5;124m뻬이비\u001b[39m\u001b[38;5;124m\"\u001b[39m,\u001b[38;5;124m\"\u001b[39m\u001b[38;5;124m뻬이 뻬이비\u001b[39m\u001b[38;5;124m\"\u001b[39m, \u001b[38;5;124m\"\u001b[39m\u001b[38;5;124m뻬이비\u001b[39m\u001b[38;5;124m\"\u001b[39m,\u001b[38;5;124m\"\u001b[39m\u001b[38;5;124m뻬이비\u001b[39m\u001b[38;5;124m\"\u001b[39m,\u001b[38;5;124m\"\u001b[39m\u001b[38;5;124m뻬이 뻬이비\u001b[39m\u001b[38;5;124m\"\u001b[39m, \u001b[38;5;124m\"\u001b[39m\u001b[38;5;124m마\u001b[39m\u001b[38;5;124m\"\u001b[39m, \u001b[38;5;124m\"\u001b[39m\u001b[38;5;124m야아\u001b[39m\u001b[38;5;124m\"\u001b[39m, \u001b[38;5;124m\"\u001b[39m\u001b[38;5;124m더\u001b[39m\u001b[38;5;124m\"\u001b[39m, \u001b[38;5;124m\"\u001b[39m\u001b[38;5;124m레리\u001b[39m\u001b[38;5;124m\"\u001b[39m, \u001b[38;5;124m\"\u001b[39m\u001b[38;5;124m꼬ㅎ\u001b[39m\u001b[38;5;124m\"\u001b[39m, \n\u001b[0;32m      5\u001b[0m  \u001b[38;5;124m\"\u001b[39m\u001b[38;5;124mno ouu\u001b[39m\u001b[38;5;124m\"\u001b[39m, \u001b[38;5;124m\"\u001b[39m\u001b[38;5;124mrouud\u001b[39m\u001b[38;5;124m\"\u001b[39m, \u001b[38;5;124m\"\u001b[39m\u001b[38;5;124mmiiii sraaa\u001b[39m\u001b[38;5;124m\"\u001b[39m, \u001b[38;5;124m\"\u001b[39m\u001b[38;5;124mplain\u001b[39m\u001b[38;5;124m\"\u001b[39m, \u001b[38;5;124m\"\u001b[39m\u001b[38;5;124mmiiii sraaa\u001b[39m\u001b[38;5;124m\"\u001b[39m, \u001b[38;5;124m\"\u001b[39m\u001b[38;5;124mclooo ouuuu houooo\u001b[39m\u001b[38;5;124m\"\u001b[39m, \u001b[38;5;124m\"\u001b[39m\u001b[38;5;124mrihi\u001b[39m\u001b[38;5;124m\"\u001b[39m, \u001b[38;5;124m\"\u001b[39m\u001b[38;5;124mbri, hi\u001b[39m\u001b[38;5;124m\"\u001b[39m, \u001b[38;5;124m\"\u001b[39m\u001b[38;5;124mmiiii sraaa\u001b[39m\u001b[38;5;124m\"\u001b[39m, \u001b[38;5;124m\"\u001b[39m\u001b[38;5;124mgget\u001b[39m\u001b[38;5;124m\"\u001b[39m, \u001b[38;5;124m\"\u001b[39m\u001b[38;5;124mooooou ouh hoo\u001b[39m\u001b[38;5;124m\"\u001b[39m,\u001b[38;5;124m\"\u001b[39m\u001b[38;5;124mclooo ouuuu houooo\u001b[39m\u001b[38;5;124m\"\u001b[39m, \u001b[38;5;124m\"\u001b[39m\u001b[38;5;124mclooo ouuuu houooo yeah clooo houuuu houooo\u001b[39m\u001b[38;5;124m\"\u001b[39m,\u001b[38;5;124m\"\u001b[39m\u001b[38;5;124mclooo ouuuu houooo o hoo\u001b[39m\u001b[38;5;124m\"\u001b[39m,\n\u001b[0;32m      6\u001b[0m  \u001b[38;5;124m\"\u001b[39m\u001b[38;5;124m한차아믈\u001b[39m\u001b[38;5;124m\"\u001b[39m, \u001b[38;5;124m\"\u001b[39m\u001b[38;5;124m내ㅊ\u001b[39m\u001b[38;5;124m\"\u001b[39m,\u001b[38;5;124m\"\u001b[39m\u001b[38;5;124m하짐마\u001b[39m\u001b[38;5;124m\"\u001b[39m, \u001b[38;5;124m\"\u001b[39m\u001b[38;5;124m초\u001b[39m\u001b[38;5;124m\"\u001b[39m, \u001b[38;5;124m\"\u001b[39m\u001b[38;5;124m호 그으으냥\u001b[39m\u001b[38;5;124m\"\u001b[39m, \u001b[38;5;124m\"\u001b[39m\u001b[38;5;124m하짐마\u001b[39m\u001b[38;5;124m\"\u001b[39m, \u001b[38;5;124m\"\u001b[39m\u001b[38;5;124m하루가아아아하\u001b[39m\u001b[38;5;124m\"\u001b[39m,\u001b[38;5;124m\"\u001b[39m\u001b[38;5;124m하짐마\u001b[39m\u001b[38;5;124m\"\u001b[39m,\n\u001b[0;32m      7\u001b[0m  \u001b[38;5;124m\"\u001b[39m\u001b[38;5;124m쭤어\u001b[39m\u001b[38;5;124m\"\u001b[39m, \u001b[38;5;124m\"\u001b[39m\u001b[38;5;124m쪄어\u001b[39m\u001b[38;5;124m\"\u001b[39m,\n\u001b[0;32m      8\u001b[0m  \u001b[38;5;124m\"\u001b[39m\u001b[38;5;124m이히이이인\u001b[39m\u001b[38;5;124m\"\u001b[39m, \u001b[38;5;124m\"\u001b[39m\u001b[38;5;124m나하알\u001b[39m\u001b[38;5;124m\"\u001b[39m, \u001b[38;5;124m\"\u001b[39m\u001b[38;5;124m유우우\u001b[39m\u001b[38;5;124m\"\u001b[39m, \u001b[38;5;124m\"\u001b[39m\u001b[38;5;124m쳐여\u001b[39m\u001b[38;5;124m\"\u001b[39m, \u001b[38;5;124m\"\u001b[39m\u001b[38;5;124m너어어\u001b[39m\u001b[38;5;124m\"\u001b[39m, \u001b[38;5;124m\"\u001b[39m\u001b[38;5;124m예에에에\u001b[39m\u001b[38;5;124m\"\u001b[39m, \u001b[38;5;124m\"\u001b[39m\u001b[38;5;124m나하알\u001b[39m\u001b[38;5;124m\"\u001b[39m,\n\u001b[0;32m      9\u001b[0m  \u001b[38;5;124m\"\u001b[39m\u001b[38;5;124m혜\u001b[39m\u001b[38;5;124m\"\u001b[39m, \u001b[38;5;124m\"\u001b[39m\u001b[38;5;124m불께\u001b[39m\u001b[38;5;124m\"\u001b[39m, \n\u001b[0;32m     10\u001b[0m  \u001b[38;5;124m\"\u001b[39m\u001b[38;5;124m퍼허\u001b[39m\u001b[38;5;124m\"\u001b[39m, \u001b[38;5;124m\"\u001b[39m\u001b[38;5;124m마는\u001b[39m\u001b[38;5;124m\"\u001b[39m, \u001b[38;5;124m\"\u001b[39m\u001b[38;5;124m켠\u001b[39m\u001b[38;5;124m\"\u001b[39m, \u001b[38;5;124m\"\u001b[39m\u001b[38;5;124m만 남\u001b[39m\u001b[38;5;124m\"\u001b[39m, \u001b[38;5;124m\"\u001b[39m\u001b[38;5;124m후우우\u001b[39m\u001b[38;5;124m\"\u001b[39m, \u001b[38;5;124m\"\u001b[39m\u001b[38;5;124m케에\u001b[39m\u001b[38;5;124m\"\u001b[39m,\n\u001b[0;32m     11\u001b[0m  \u001b[38;5;124m\"\u001b[39m\u001b[38;5;124m지는 켸에저른\u001b[39m\u001b[38;5;124m\"\u001b[39m, \u001b[38;5;124m\"\u001b[39m\u001b[38;5;124m하름 다운거얼\u001b[39m\u001b[38;5;124m\"\u001b[39m, \u001b[38;5;124m\"\u001b[39m\u001b[38;5;124m할 주울 아랐던\u001b[39m\u001b[38;5;124m\"\u001b[39m, \u001b[38;5;124m\"\u001b[39m\u001b[38;5;124m켸에저렌\u001b[39m\u001b[38;5;124m\"\u001b[39m, \u001b[38;5;124m\"\u001b[39m\u001b[38;5;124m드테\u001b[39m\u001b[38;5;124m\"\u001b[39m, \u001b[38;5;124m\"\u001b[39m\u001b[38;5;124m거얼\u001b[39m\u001b[38;5;124m\"\u001b[39m, \n\u001b[0;32m     12\u001b[0m  \u001b[38;5;124m\"\u001b[39m\u001b[38;5;124m냐아어\u001b[39m\u001b[38;5;124m\"\u001b[39m, \u001b[38;5;124m\"\u001b[39m\u001b[38;5;124m너어\u001b[39m\u001b[38;5;124m\"\u001b[39m, \u001b[38;5;124m\"\u001b[39m\u001b[38;5;124m게에\u001b[39m\u001b[38;5;124m\"\u001b[39m, \u001b[38;5;124m\"\u001b[39m\u001b[38;5;124m어어어어\u001b[39m\u001b[38;5;124m\"\u001b[39m, \u001b[38;5;124m\"\u001b[39m\u001b[38;5;124m라알\u001b[39m\u001b[38;5;124m\"\u001b[39m, \u001b[38;5;124m\"\u001b[39m\u001b[38;5;124m끼이이임\u001b[39m\u001b[38;5;124m\"\u001b[39m, \u001b[38;5;124m\"\u001b[39m\u001b[38;5;124m다아아아어\u001b[39m\u001b[38;5;124m\"\u001b[39m, \u001b[38;5;124m\"\u001b[39m\u001b[38;5;124m다아아아아\u001b[39m\u001b[38;5;124m\"\u001b[39m, \u001b[38;5;124m\"\u001b[39m\u001b[38;5;124m마안\u001b[39m\u001b[38;5;124m\"\u001b[39m, \u001b[38;5;124m\"\u001b[39m\u001b[38;5;124m어어\u001b[39m\u001b[38;5;124m\"\u001b[39m, \u001b[38;5;124m\"\u001b[39m\u001b[38;5;124m제에에는\u001b[39m\u001b[38;5;124m\"\u001b[39m, \u001b[38;5;124m\"\u001b[39m\u001b[38;5;124m이히\u001b[39m\u001b[38;5;124m\"\u001b[39m, \u001b[38;5;124m\"\u001b[39m\u001b[38;5;124m워어\u001b[39m\u001b[38;5;124m\"\u001b[39m, \u001b[38;5;124m\"\u001b[39m\u001b[38;5;124m라아\u001b[39m\u001b[38;5;124m\"\u001b[39m, \u001b[38;5;124m\"\u001b[39m\u001b[38;5;124m러어\u001b[39m\u001b[38;5;124m\"\u001b[39m, \u001b[38;5;124m\"\u001b[39m\u001b[38;5;124m리히\u001b[39m\u001b[38;5;124m\"\u001b[39m, \u001b[38;5;124m\"\u001b[39m\u001b[38;5;124m다아아아아\u001b[39m\u001b[38;5;124m\"\u001b[39m, \u001b[38;5;124m\"\u001b[39m\u001b[38;5;124m모오오\u001b[39m\u001b[38;5;124m\"\u001b[39m, \u001b[38;5;124m\"\u001b[39m\u001b[38;5;124m게에\u001b[39m\u001b[38;5;124m\"\u001b[39m, \u001b[38;5;124m\"\u001b[39m\u001b[38;5;124m켸에에엔\u001b[39m\u001b[38;5;124m\"\u001b[39m, \u001b[38;5;124m\"\u001b[39m\u001b[38;5;124m어어어어\u001b[39m\u001b[38;5;124m\"\u001b[39m,  \u001b[38;5;124m\"\u001b[39m\u001b[38;5;124m라알\u001b[39m\u001b[38;5;124m\"\u001b[39m, \u001b[38;5;124m\"\u001b[39m\u001b[38;5;124m끼이이임\u001b[39m\u001b[38;5;124m\"\u001b[39m, \u001b[38;5;124m\"\u001b[39m\u001b[38;5;124m드흘\u001b[39m\u001b[38;5;124m\"\u001b[39m, \u001b[38;5;124m\"\u001b[39m\u001b[38;5;124m다아아아어\u001b[39m\u001b[38;5;124m\"\u001b[39m, \u001b[38;5;124m\"\u001b[39m\u001b[38;5;124m다아아아아\u001b[39m\u001b[38;5;124m\"\u001b[39m, \u001b[38;5;124m\"\u001b[39m\u001b[38;5;124m어어\u001b[39m\u001b[38;5;124m\"\u001b[39m, \u001b[38;5;124m\"\u001b[39m\u001b[38;5;124m이히나\u001b[39m\u001b[38;5;124m\"\u001b[39m, \u001b[38;5;124m\"\u001b[39m\u001b[38;5;124m까하\u001b[39m\u001b[38;5;124m\"\u001b[39m, \u001b[38;5;124m\"\u001b[39m\u001b[38;5;124m이히제\u001b[39m\u001b[38;5;124m\"\u001b[39m, \u001b[38;5;124m\"\u001b[39m\u001b[38;5;124m다아안\u001b[39m\u001b[38;5;124m\"\u001b[39m, \u001b[38;5;124m\"\u001b[39m\u001b[38;5;124m써어어어어\u001b[39m\u001b[38;5;124m\"\u001b[39m, \u001b[38;5;124m\"\u001b[39m\u001b[38;5;124m보오오\u001b[39m\u001b[38;5;124m\"\u001b[39m, \u001b[38;5;124m\"\u001b[39m\u001b[38;5;124m지이이이이\u001b[39m\u001b[38;5;124m\"\u001b[39m, \u001b[38;5;124m\"\u001b[39m\u001b[38;5;124m카하\u001b[39m\u001b[38;5;124m\"\u001b[39m,  \u001b[38;5;124m\"\u001b[39m\u001b[38;5;124m다아아아아\u001b[39m\u001b[38;5;124m\"\u001b[39m, \u001b[38;5;124m\"\u001b[39m\u001b[38;5;124m다아아아아\u001b[39m\u001b[38;5;124m\"\u001b[39m, \u001b[38;5;124m\"\u001b[39m\u001b[38;5;124m나아았\u001b[39m\u001b[38;5;124m\"\u001b[39m, \u001b[38;5;124m\"\u001b[39m\u001b[38;5;124m마안\u001b[39m\u001b[38;5;124m\"\u001b[39m, \u001b[38;5;124m\"\u001b[39m\u001b[38;5;124m써허어\u001b[39m\u001b[38;5;124m\"\u001b[39m, \n\u001b[0;32m     13\u001b[0m  \u001b[38;5;124m\"\u001b[39m\u001b[38;5;124mfuii\u001b[39m\u001b[38;5;124m\"\u001b[39m, \u001b[38;5;124m\"\u001b[39m\u001b[38;5;124m비치\u001b[39m\u001b[38;5;124m\"\u001b[39m, \u001b[38;5;124m\"\u001b[39m\u001b[38;5;124mchuuu\u001b[39m\u001b[38;5;124m\"\u001b[39m,\u001b[38;5;124m\"\u001b[39m\u001b[38;5;124m비치\u001b[39m\u001b[38;5;124m\"\u001b[39m,\n\u001b[0;32m     14\u001b[0m  \u001b[38;5;124m\"\u001b[39m\u001b[38;5;124m눈네에\u001b[39m\u001b[38;5;124m\"\u001b[39m, \u001b[38;5;124m\"\u001b[39m\u001b[38;5;124m뻐허린\u001b[39m\u001b[38;5;124m\"\u001b[39m, \u001b[38;5;124m\"\u001b[39m\u001b[38;5;124m처 빠른\u001b[39m\u001b[38;5;124m\"\u001b[39m, \u001b[38;5;124m\"\u001b[39m\u001b[38;5;124m리까\u001b[39m\u001b[38;5;124m\"\u001b[39m, \u001b[38;5;124m\"\u001b[39m\u001b[38;5;124m리까\u001b[39m\u001b[38;5;124m\"\u001b[39m,\n\u001b[0;32m     15\u001b[0m  \u001b[38;5;124m\"\u001b[39m\u001b[38;5;124m초오\u001b[39m\u001b[38;5;124m\"\u001b[39m, \u001b[38;5;124m\"\u001b[39m\u001b[38;5;124m하암\u001b[39m\u001b[38;5;124m\"\u001b[39m, \u001b[38;5;124m\"\u001b[39m\u001b[38;5;124m휘이\u001b[39m\u001b[38;5;124m\"\u001b[39m, \u001b[38;5;124m\"\u001b[39m\u001b[38;5;124m커어리\u001b[39m\u001b[38;5;124m\"\u001b[39m, \u001b[38;5;124m\"\u001b[39m\u001b[38;5;124m휘인\u001b[39m\u001b[38;5;124m\"\u001b[39m, \u001b[38;5;124m\"\u001b[39m\u001b[38;5;124m뚜우\u001b[39m\u001b[38;5;124m\"\u001b[39m, \u001b[38;5;124m\"\u001b[39m\u001b[38;5;124m저저\u001b[39m\u001b[38;5;124m\"\u001b[39m, \u001b[38;5;124m\"\u001b[39m\u001b[38;5;124m다알라써\u001b[39m\u001b[38;5;124m\"\u001b[39m, \u001b[38;5;124m\"\u001b[39m\u001b[38;5;124m더언\u001b[39m\u001b[38;5;124m\"\u001b[39m, \u001b[38;5;124m\"\u001b[39m\u001b[38;5;124m바알\u001b[39m\u001b[38;5;124m\"\u001b[39m, np\u001b[38;5;241m.\u001b[39mNaN, \u001b[38;5;124m\"\u001b[39m\u001b[38;5;124m카안\u001b[39m\u001b[38;5;124m\"\u001b[39m, \u001b[38;5;124m\"\u001b[39m\u001b[38;5;124m도오옫\u001b[39m\u001b[38;5;124m\"\u001b[39m, \u001b[38;5;124m\"\u001b[39m\u001b[38;5;124m바하아\u001b[39m\u001b[38;5;124m\"\u001b[39m, \u001b[38;5;124m\"\u001b[39m\u001b[38;5;124m벼혀언\u001b[39m\u001b[38;5;124m\"\u001b[39m, \u001b[38;5;124m\"\u001b[39m\u001b[38;5;124m도오옫\u001b[39m\u001b[38;5;124m\"\u001b[39m,\n\u001b[0;32m     16\u001b[0m  \u001b[38;5;124m\"\u001b[39m\u001b[38;5;124m아치믈\u001b[39m\u001b[38;5;124m\"\u001b[39m, \u001b[38;5;124m\"\u001b[39m\u001b[38;5;124m하아아아\u001b[39m\u001b[38;5;124m\"\u001b[39m, \u001b[38;5;124m\"\u001b[39m\u001b[38;5;124m하알까\u001b[39m\u001b[38;5;124m\"\u001b[39m, \u001b[38;5;124m\"\u001b[39m\u001b[38;5;124m나아아아아안\u001b[39m\u001b[38;5;124m\"\u001b[39m, \u001b[38;5;124m\"\u001b[39m\u001b[38;5;124m우우우웃\u001b[39m\u001b[38;5;124m\"\u001b[39m, \u001b[38;5;124m\"\u001b[39m\u001b[38;5;124m하아아아\u001b[39m\u001b[38;5;124m\"\u001b[39m, \u001b[38;5;124m\"\u001b[39m\u001b[38;5;124m하알까\u001b[39m\u001b[38;5;124m\"\u001b[39m, \u001b[38;5;124m\"\u001b[39m\u001b[38;5;124m나아아아아안\u001b[39m\u001b[38;5;124m\"\u001b[39m, \u001b[38;5;124m\"\u001b[39m\u001b[38;5;124m우우우웃\u001b[39m\u001b[38;5;124m\"\u001b[39m, \u001b[38;5;124m\"\u001b[39m\u001b[38;5;124m너어어\u001b[39m\u001b[38;5;124m\"\u001b[39m, \u001b[38;5;124m\"\u001b[39m\u001b[38;5;124m다하\u001b[39m\u001b[38;5;124m\"\u001b[39m, \u001b[38;5;124m\"\u001b[39m\u001b[38;5;124m하아\u001b[39m\u001b[38;5;124m\"\u001b[39m, \u001b[38;5;124m\"\u001b[39m\u001b[38;5;124m시이이잎\u001b[39m\u001b[38;5;124m\"\u001b[39m\n\u001b[0;32m     17\u001b[0m         ]\n",
      "\u001b[1;31mNameError\u001b[0m: name 'np' is not defined"
     ]
    }
   ],
   "source": [
    "ly_arr =[\"뒤찝어\",\"네이이이이이\", \"쏙\", \"이 빰은 멋찌꼬우\", \n",
    " np.NaN, \"toder don\", \"paitiencce\", \"hapbhen\",  \"wouuunt\", \"hur\", \n",
    "\"d\", \"too be\", \"a\", \"aanit looks like imma queen\", \"fuhhny\", \"eeeverything\",\"feehars\", \"pouwer\", \n",
    " \"난\", \"뻬이비\", \"더\", \"아아\", \"네버\",\"꼬\", \"뽀우\", \"롴\", \"나앜\", \"다하\", \"렄\", \"더\", \"네버\", \"뽀우\", \"롴\" ,\"다하\",\"끄치\", \"뻬이비\", \"뻬이비\",\"뻬이비\",\"뻬이 뻬이비\", \"뻬이비\",\"뻬이비\",\"뻬이 뻬이비\", \"마\", \"야아\", \"더\", \"레리\", \"꼬ㅎ\", \n",
    " \"no ouu\", \"rouud\", \"miiii sraaa\", \"plain\", \"miiii sraaa\", \"clooo ouuuu houooo\", \"rihi\", \"bri, hi\", \"miiii sraaa\", \"gget\", \"ooooou ouh hoo\",\"clooo ouuuu houooo\", \"clooo ouuuu houooo yeah clooo houuuu houooo\",\"clooo ouuuu houooo o hoo\",\n",
    " \"한차아믈\", \"내ㅊ\",\"하짐마\", \"초\", \"호 그으으냥\", \"하짐마\", \"하루가아아아하\",\"하짐마\",\n",
    " \"쭤어\", \"쪄어\",\n",
    " \"이히이이인\", \"나하알\", \"유우우\", \"쳐여\", \"너어어\", \"예에에에\", \"나하알\",\n",
    " \"혜\", \"불께\", \n",
    " \"퍼허\", \"마는\", \"켠\", \"만 남\", \"후우우\", \"케에\",\n",
    " \"지는 켸에저른\", \"하름 다운거얼\", \"할 주울 아랐던\", \"켸에저렌\", \"드테\", \"거얼\", \n",
    " \"냐아어\", \"너어\", \"게에\", \"어어어어\", \"라알\", \"끼이이임\", \"다아아아어\", \"다아아아아\", \"마안\", \"어어\", \"제에에는\", \"이히\", \"워어\", \"라아\", \"러어\", \"리히\", \"다아아아아\", \"모오오\", \"게에\", \"켸에에엔\", \"어어어어\",  \"라알\", \"끼이이임\", \"드흘\", \"다아아아어\", \"다아아아아\", \"어어\", \"이히나\", \"까하\", \"이히제\", \"다아안\", \"써어어어어\", \"보오오\", \"지이이이이\", \"카하\",  \"다아아아아\", \"다아아아아\", \"나아았\", \"마안\", \"써허어\", \n",
    " \"fuii\", \"비치\", \"chuuu\",\"비치\",\n",
    " \"눈네에\", \"뻐허린\", \"처 빠른\", \"리까\", \"리까\",\n",
    " \"초오\", \"하암\", \"휘이\", \"커어리\", \"휘인\", \"뚜우\", \"저저\", \"다알라써\", \"더언\", \"바알\", np.NaN, \"카안\", \"도오옫\", \"바하아\", \"벼혀언\", \"도오옫\",\n",
    " \"아치믈\", \"하아아아\", \"하알까\", \"나아아아아안\", \"우우우웃\", \"하아아아\", \"하알까\", \"나아아아아안\", \"우우우웃\", \"너어어\", \"다하\", \"하아\", \"시이이잎\"\n",
    "        ]"
   ]
  },
  {
   "cell_type": "code",
   "execution_count": 2,
   "id": "431c3839-b7d5-4f42-820a-0b67d7c6edb7",
   "metadata": {},
   "outputs": [
    {
     "ename": "NameError",
     "evalue": "name 'total' is not defined",
     "output_type": "error",
     "traceback": [
      "\u001b[1;31m---------------------------------------------------------------------------\u001b[0m",
      "\u001b[1;31mNameError\u001b[0m                                 Traceback (most recent call last)",
      "Cell \u001b[1;32mIn[2], line 1\u001b[0m\n\u001b[1;32m----> 1\u001b[0m filenames \u001b[38;5;241m=\u001b[39m  \u001b[43mtotal\u001b[49m\u001b[38;5;241m.\u001b[39mloc[total[\u001b[38;5;124m\"\u001b[39m\u001b[38;5;124mlabel\u001b[39m\u001b[38;5;124m\"\u001b[39m] \u001b[38;5;241m==\u001b[39m \u001b[38;5;124m\"\u001b[39m\u001b[38;5;124m발음\u001b[39m\u001b[38;5;124m\"\u001b[39m, \u001b[38;5;124m\"\u001b[39m\u001b[38;5;124msong_name\u001b[39m\u001b[38;5;124m\"\u001b[39m]\u001b[38;5;241m.\u001b[39munique()\n\u001b[0;32m      2\u001b[0m filenames\n",
      "\u001b[1;31mNameError\u001b[0m: name 'total' is not defined"
     ]
    }
   ],
   "source": [
    "filenames =  total.loc[total[\"label\"] == \"발음\", \"song_name\"].unique()\n",
    "filenames"
   ]
  },
  {
   "cell_type": "code",
   "execution_count": null,
   "id": "600625e7-dd02-4ba6-a0c4-d69e8fb3d913",
   "metadata": {},
   "outputs": [],
   "source": [
    "global_index = 0\n",
    "sr = 44100\n",
    "total['pronunciation'] = np.NaN\n",
    "for file in filenames:\n",
    "    print(file)\n",
    "    for i, idx in enumerate(total[(total['song_name'] == file) & (total[\"label\"] == \"발음\")].index):\n",
    "        print(total.loc[idx,'label'])\n",
    "        print(total.loc[idx,'ly'])\n",
    "        print(ly_arr[i+global_index])\n",
    "        total.loc[idx, 'pronunciation'] = ly_arr[i + global_index]\n",
    "    global_index += i+1\n",
    "    print(\"*\"*20)"
   ]
  },
  {
   "cell_type": "markdown",
   "id": "e0bd2ac1-00c6-4744-b18d-68f5f2ebc82d",
   "metadata": {},
   "source": [
    "### 2. sec에 해당하는 부분 오디오 보여주기"
   ]
  },
  {
   "cell_type": "code",
   "execution_count": 4,
   "id": "3fdc802a-555a-4a65-a885-e0693880e866",
   "metadata": {},
   "outputs": [
    {
     "data": {
      "text/plain": [
       "['christina_perri_a_thousand_years.wav',\n",
       " 'Christina_Perri_A_Thousand_Years_2.wav',\n",
       " 'Feel_My_Rhythm.wav',\n",
       " 'Honesty.wav',\n",
       " 'If_You.wav',\n",
       " 'I_Love_You_3000.wav',\n",
       " 'Letitgo.wav',\n",
       " 'Love_Yourself.wav',\n",
       " 'OMG.wav',\n",
       " 'Painkiller.wav',\n",
       " 'Rolling_in_the_Deep.wav',\n",
       " 'Snowman.wav',\n",
       " 'Thinking_Out_Loud.wav',\n",
       " 'Thirsty.wav',\n",
       " 'What_Do_I_Call_You.wav',\n",
       " 'When_I_was_your_man.wav',\n",
       " '기다리다.wav',\n",
       " '꽃.wav',\n",
       " '끝.wav',\n",
       " '눈코입.wav',\n",
       " '듣는편지.wav',\n",
       " '봄여름가을겨울.wav',\n",
       " '사랑했잖아.wav',\n",
       " '스물다섯스물하나.wav',\n",
       " '아로하.wav',\n",
       " '예뻤어.wav',\n",
       " '잠이오질않네요.wav',\n",
       " '처음부터너와나.wav',\n",
       " '첫사랑.wav',\n",
       " '초록빛.wav',\n",
       " '취기를빌려.wav']"
      ]
     },
     "execution_count": 4,
     "metadata": {},
     "output_type": "execute_result"
    }
   ],
   "source": [
    "import os\n",
    "path = \"C:/Users/Ahn/projects/upsing/copy_song_mr_removed/\"\n",
    "filenames = os.listdir(path)\n",
    "filenames"
   ]
  },
  {
   "cell_type": "code",
   "execution_count": 5,
   "id": "220f968d-a483-4b10-b6c9-2911f646cdc7",
   "metadata": {},
   "outputs": [],
   "source": [
    "def split_wav(data, sample_rate, start, end):\n",
    "    start *= sample_rate\n",
    "    end *= sample_rate\n",
    "    return data[int(start):int(end)]"
   ]
  },
  {
   "cell_type": "code",
   "execution_count": 6,
   "id": "d5e068f0-4923-4e79-b500-164321a73e65",
   "metadata": {},
   "outputs": [
    {
     "ename": "NameError",
     "evalue": "name 'song' is not defined",
     "output_type": "error",
     "traceback": [
      "\u001b[1;31m---------------------------------------------------------------------------\u001b[0m",
      "\u001b[1;31mNameError\u001b[0m                                 Traceback (most recent call last)",
      "Cell \u001b[1;32mIn[6], line 2\u001b[0m\n\u001b[0;32m      1\u001b[0m \u001b[38;5;66;03m# plus_sec = ?\u001b[39;00m\n\u001b[1;32m----> 2\u001b[0m \u001b[38;5;28;01mfor\u001b[39;00m idx \u001b[38;5;129;01min\u001b[39;00m \u001b[43msong\u001b[49m\u001b[38;5;241m.\u001b[39mloc[song[\u001b[38;5;124m'\u001b[39m\u001b[38;5;124msong_name\u001b[39m\u001b[38;5;124m'\u001b[39m] \u001b[38;5;241m==\u001b[39m filenames[file_idx][:\u001b[38;5;241m-\u001b[39m\u001b[38;5;241m4\u001b[39m]]\u001b[38;5;241m.\u001b[39mindex:\n\u001b[0;32m      3\u001b[0m     song\u001b[38;5;241m.\u001b[39mloc[idx, \u001b[38;5;124m'\u001b[39m\u001b[38;5;124msec\u001b[39m\u001b[38;5;124m'\u001b[39m][\u001b[38;5;241m0\u001b[39m] \u001b[38;5;241m+\u001b[39m\u001b[38;5;241m=\u001b[39m plus_sec\n\u001b[0;32m      4\u001b[0m     song\u001b[38;5;241m.\u001b[39mloc[idx, \u001b[38;5;124m'\u001b[39m\u001b[38;5;124msec\u001b[39m\u001b[38;5;124m'\u001b[39m][\u001b[38;5;241m1\u001b[39m] \u001b[38;5;241m+\u001b[39m\u001b[38;5;241m=\u001b[39m plus_sec\n",
      "\u001b[1;31mNameError\u001b[0m: name 'song' is not defined"
     ]
    }
   ],
   "source": [
    "# plus_sec = ?\n",
    "for idx in song.loc[song['song_name'] == filenames[file_idx][:-4]].index:\n",
    "    song.loc[idx, 'sec'][0] += plus_sec\n",
    "    song.loc[idx, 'sec'][1] += plus_sec"
   ]
  },
  {
   "cell_type": "code",
   "execution_count": null,
   "id": "8aa27e15-4a26-4680-9dfb-e3aeb71ef753",
   "metadata": {},
   "outputs": [],
   "source": [
    "sr = 44100\n",
    "plus_sec = 0.0\n",
    "file_idx = 30\n",
    "# for file in filenames:\n",
    "file = filenames[file_idx]\n",
    "print(file)\n",
    "print(\"*\"*20)\n",
    "data, rate = librosa.load(path + file, sr=sr)\n",
    "for i, idx in enumerate(song[(song['song_name'] == file[:-4])].index):\n",
    "    print(song.loc[idx, 'sec'])\n",
    "    print(song.loc[idx,'ly'])\n",
    "    print(song.loc[idx,'label'])\n",
    "    edited_data = split_wav(data, sr, song.loc[idx,'sec'][0]+plus_sec, song.loc[idx,'sec'][1]+plus_sec)\n",
    "    if len(edited_data) == 0:\n",
    "        print(\"에러\")\n",
    "        continue\n",
    "    display(Audio(data = edited_data, rate = sr))\n",
    "print(file)\n",
    "song['song_name'].unique()"
   ]
  },
  {
   "cell_type": "code",
   "execution_count": 8,
   "id": "6804de9c-ec8b-4111-a0dc-d1f69ec357ef",
   "metadata": {},
   "outputs": [
    {
     "data": {
      "text/html": [
       "<div>\n",
       "<style scoped>\n",
       "    .dataframe tbody tr th:only-of-type {\n",
       "        vertical-align: middle;\n",
       "    }\n",
       "\n",
       "    .dataframe tbody tr th {\n",
       "        vertical-align: top;\n",
       "    }\n",
       "\n",
       "    .dataframe thead th {\n",
       "        text-align: right;\n",
       "    }\n",
       "</style>\n",
       "<table border=\"1\" class=\"dataframe\">\n",
       "  <thead>\n",
       "    <tr style=\"text-align: right;\">\n",
       "      <th></th>\n",
       "      <th>sec</th>\n",
       "      <th>label</th>\n",
       "      <th>song_name</th>\n",
       "      <th>ly</th>\n",
       "      <th>pronunciation</th>\n",
       "      <th>audio_arr</th>\n",
       "      <th>loudness_normalized_audio_arr</th>\n",
       "    </tr>\n",
       "  </thead>\n",
       "  <tbody>\n",
       "    <tr>\n",
       "      <th>0</th>\n",
       "      <td>[24.67, 25.5]</td>\n",
       "      <td>비브라토</td>\n",
       "      <td>Christina_Perri_A_Thousand_Years_2</td>\n",
       "      <td>colors</td>\n",
       "      <td>NaN</td>\n",
       "      <td>[-0.0078887939453125 -0.0103912353515625 -0.01...</td>\n",
       "      <td>[-0.02789396420121193 -0.03674234077334404 -0....</td>\n",
       "    </tr>\n",
       "    <tr>\n",
       "      <th>1</th>\n",
       "      <td>[26.04, 28.32]</td>\n",
       "      <td>비브라토</td>\n",
       "      <td>Christina_Perri_A_Thousand_Years_2</td>\n",
       "      <td>promise</td>\n",
       "      <td>NaN</td>\n",
       "      <td>[-0.0004119873046875 -0.0033416748046875 -0.00...</td>\n",
       "      <td>[-0.0014567447360605001 -0.011815818957984447 ...</td>\n",
       "    </tr>\n",
       "    <tr>\n",
       "      <th>2</th>\n",
       "      <td>[30.98, 31.91]</td>\n",
       "      <td>비브라토</td>\n",
       "      <td>Christina_Perri_A_Thousand_Years_2</td>\n",
       "      <td>brave</td>\n",
       "      <td>NaN</td>\n",
       "      <td>[0.0461273193359375 0.035125732421875 0.029174...</td>\n",
       "      <td>[0.163101464509964 0.1242009773850441 0.103159...</td>\n",
       "    </tr>\n",
       "    <tr>\n",
       "      <th>3</th>\n",
       "      <td>[33.66, 34.42]</td>\n",
       "      <td>비브라토</td>\n",
       "      <td>Christina_Perri_A_Thousand_Years_2</td>\n",
       "      <td>love</td>\n",
       "      <td>NaN</td>\n",
       "      <td>[0.151153564453125 0.1494140625 0.1455078125 ....</td>\n",
       "      <td>[0.5344634652137756 0.5283128023147583 0.51450...</td>\n",
       "    </tr>\n",
       "    <tr>\n",
       "      <th>4</th>\n",
       "      <td>[35.0, 36.03]</td>\n",
       "      <td>비브라토</td>\n",
       "      <td>Christina_Perri_A_Thousand_Years_2</td>\n",
       "      <td>i'm</td>\n",
       "      <td>NaN</td>\n",
       "      <td>[0.0457611083984375 0.0686187744140625 0.07807...</td>\n",
       "      <td>[0.16180658340454102 0.24262893199920654 0.276...</td>\n",
       "    </tr>\n",
       "    <tr>\n",
       "      <th>...</th>\n",
       "      <td>...</td>\n",
       "      <td>...</td>\n",
       "      <td>...</td>\n",
       "      <td>...</td>\n",
       "      <td>...</td>\n",
       "      <td>...</td>\n",
       "      <td>...</td>\n",
       "    </tr>\n",
       "    <tr>\n",
       "      <th>2469</th>\n",
       "      <td>[183.31, 184.59]</td>\n",
       "      <td>가성</td>\n",
       "      <td>I_Love_You_3000</td>\n",
       "      <td>baby</td>\n",
       "      <td>NaN</td>\n",
       "      <td>[-0.496368408203125 -0.5169525146484375 -0.462...</td>\n",
       "      <td>[-0.6433773040771484 -0.6700577735900879 -0.59...</td>\n",
       "    </tr>\n",
       "    <tr>\n",
       "      <th>2470</th>\n",
       "      <td>[185.8, 187.28]</td>\n",
       "      <td>비브라토</td>\n",
       "      <td>I_Love_You_3000</td>\n",
       "      <td>spoilers please</td>\n",
       "      <td>NaN</td>\n",
       "      <td>[0.139739990234375 0.0922698974609375 0.041839...</td>\n",
       "      <td>[0.1811266392469406 0.11959737539291382 0.0542...</td>\n",
       "    </tr>\n",
       "    <tr>\n",
       "      <th>2471</th>\n",
       "      <td>[191.13, 192.8]</td>\n",
       "      <td>비브라토</td>\n",
       "      <td>I_Love_You_3000</td>\n",
       "      <td>spoilers please</td>\n",
       "      <td>NaN</td>\n",
       "      <td>[0.2429046630859375 0.1362152099609375 0.20036...</td>\n",
       "      <td>[0.314845472574234 0.17655792832374573 0.25970...</td>\n",
       "    </tr>\n",
       "    <tr>\n",
       "      <th>2472</th>\n",
       "      <td>[202.46, 207.14]</td>\n",
       "      <td>가성</td>\n",
       "      <td>I_Love_You_3000</td>\n",
       "      <td>love you 3000</td>\n",
       "      <td>NaN</td>\n",
       "      <td>[0.4078216552734375 0.39764404296875 0.3629760...</td>\n",
       "      <td>[0.5286057591438293 0.5154138803482056 0.47047...</td>\n",
       "    </tr>\n",
       "    <tr>\n",
       "      <th>2473</th>\n",
       "      <td>[204.13, 206.07]</td>\n",
       "      <td>비브라토</td>\n",
       "      <td>I_Love_You_3000</td>\n",
       "      <td>3000</td>\n",
       "      <td>NaN</td>\n",
       "      <td>[0.0485076904296875 0.304901123046875 0.216598...</td>\n",
       "      <td>[0.06287416070699692 0.3952033519744873 0.2807...</td>\n",
       "    </tr>\n",
       "  </tbody>\n",
       "</table>\n",
       "<p>2474 rows × 7 columns</p>\n",
       "</div>"
      ],
      "text/plain": [
       "                   sec label                           song_name  \\\n",
       "0        [24.67, 25.5]  비브라토  Christina_Perri_A_Thousand_Years_2   \n",
       "1       [26.04, 28.32]  비브라토  Christina_Perri_A_Thousand_Years_2   \n",
       "2       [30.98, 31.91]  비브라토  Christina_Perri_A_Thousand_Years_2   \n",
       "3       [33.66, 34.42]  비브라토  Christina_Perri_A_Thousand_Years_2   \n",
       "4        [35.0, 36.03]  비브라토  Christina_Perri_A_Thousand_Years_2   \n",
       "...                ...   ...                                 ...   \n",
       "2469  [183.31, 184.59]    가성                     I_Love_You_3000   \n",
       "2470   [185.8, 187.28]  비브라토                     I_Love_You_3000   \n",
       "2471   [191.13, 192.8]  비브라토                     I_Love_You_3000   \n",
       "2472  [202.46, 207.14]    가성                     I_Love_You_3000   \n",
       "2473  [204.13, 206.07]  비브라토                     I_Love_You_3000   \n",
       "\n",
       "                   ly pronunciation  \\\n",
       "0              colors           NaN   \n",
       "1             promise           NaN   \n",
       "2               brave           NaN   \n",
       "3                love           NaN   \n",
       "4                 i'm           NaN   \n",
       "...               ...           ...   \n",
       "2469             baby           NaN   \n",
       "2470  spoilers please           NaN   \n",
       "2471  spoilers please           NaN   \n",
       "2472    love you 3000           NaN   \n",
       "2473             3000           NaN   \n",
       "\n",
       "                                              audio_arr  \\\n",
       "0     [-0.0078887939453125 -0.0103912353515625 -0.01...   \n",
       "1     [-0.0004119873046875 -0.0033416748046875 -0.00...   \n",
       "2     [0.0461273193359375 0.035125732421875 0.029174...   \n",
       "3     [0.151153564453125 0.1494140625 0.1455078125 ....   \n",
       "4     [0.0457611083984375 0.0686187744140625 0.07807...   \n",
       "...                                                 ...   \n",
       "2469  [-0.496368408203125 -0.5169525146484375 -0.462...   \n",
       "2470  [0.139739990234375 0.0922698974609375 0.041839...   \n",
       "2471  [0.2429046630859375 0.1362152099609375 0.20036...   \n",
       "2472  [0.4078216552734375 0.39764404296875 0.3629760...   \n",
       "2473  [0.0485076904296875 0.304901123046875 0.216598...   \n",
       "\n",
       "                          loudness_normalized_audio_arr  \n",
       "0     [-0.02789396420121193 -0.03674234077334404 -0....  \n",
       "1     [-0.0014567447360605001 -0.011815818957984447 ...  \n",
       "2     [0.163101464509964 0.1242009773850441 0.103159...  \n",
       "3     [0.5344634652137756 0.5283128023147583 0.51450...  \n",
       "4     [0.16180658340454102 0.24262893199920654 0.276...  \n",
       "...                                                 ...  \n",
       "2469  [-0.6433773040771484 -0.6700577735900879 -0.59...  \n",
       "2470  [0.1811266392469406 0.11959737539291382 0.0542...  \n",
       "2471  [0.314845472574234 0.17655792832374573 0.25970...  \n",
       "2472  [0.5286057591438293 0.5154138803482056 0.47047...  \n",
       "2473  [0.06287416070699692 0.3952033519744873 0.2807...  \n",
       "\n",
       "[2474 rows x 7 columns]"
      ]
     },
     "execution_count": 8,
     "metadata": {},
     "output_type": "execute_result"
    }
   ],
   "source": [
    "song"
   ]
  },
  {
   "cell_type": "code",
   "execution_count": null,
   "id": "9b423308-0304-43ef-904a-76489af34607",
   "metadata": {},
   "outputs": [],
   "source": []
  },
  {
   "cell_type": "code",
   "execution_count": null,
   "id": "10c7bebb-3744-483c-b832-f930c1773ea1",
   "metadata": {},
   "outputs": [],
   "source": []
  },
  {
   "cell_type": "code",
   "execution_count": 7,
   "id": "607962aa-011b-4bd8-a22a-b7822da1deec",
   "metadata": {},
   "outputs": [],
   "source": [
    "path = \"C:/Users/Ahn/projects/upsing/data/song.csv\"\n",
    "import pandas as pd\n",
    "song = pd.read_csv(path)"
   ]
  },
  {
   "cell_type": "code",
   "execution_count": 5,
   "id": "6d1d3c44-c54e-4a7a-a47e-97fe0cfd768d",
   "metadata": {},
   "outputs": [
    {
     "ename": "AttributeError",
     "evalue": "'Series' object has no attribute 'split'",
     "output_type": "error",
     "traceback": [
      "\u001b[1;31m---------------------------------------------------------------------------\u001b[0m",
      "\u001b[1;31mAttributeError\u001b[0m                            Traceback (most recent call last)",
      "\u001b[1;32m~\\AppData\\Local\\Temp\\ipykernel_10356\\3484615868.py\u001b[0m in \u001b[0;36m<module>\u001b[1;34m\u001b[0m\n\u001b[1;32m----> 1\u001b[1;33m \u001b[0mtmp\u001b[0m \u001b[1;33m=\u001b[0m \u001b[0mtmp\u001b[0m\u001b[1;33m[\u001b[0m\u001b[1;34m'sec'\u001b[0m\u001b[1;33m]\u001b[0m\u001b[1;33m[\u001b[0m\u001b[1;36m1\u001b[0m\u001b[1;33m:\u001b[0m\u001b[1;33m-\u001b[0m\u001b[1;36m1\u001b[0m\u001b[1;33m]\u001b[0m\u001b[1;33m.\u001b[0m\u001b[0msplit\u001b[0m\u001b[1;33m(\u001b[0m\u001b[1;34m\",\"\u001b[0m\u001b[1;33m)\u001b[0m\u001b[1;33m\u001b[0m\u001b[1;33m\u001b[0m\u001b[0m\n\u001b[0m",
      "\u001b[1;32m~\\anaconda3\\envs\\main\\lib\\site-packages\\pandas\\core\\generic.py\u001b[0m in \u001b[0;36m__getattr__\u001b[1;34m(self, name)\u001b[0m\n\u001b[0;32m   5485\u001b[0m         ):\n\u001b[0;32m   5486\u001b[0m             \u001b[1;32mreturn\u001b[0m \u001b[0mself\u001b[0m\u001b[1;33m[\u001b[0m\u001b[0mname\u001b[0m\u001b[1;33m]\u001b[0m\u001b[1;33m\u001b[0m\u001b[1;33m\u001b[0m\u001b[0m\n\u001b[1;32m-> 5487\u001b[1;33m         \u001b[1;32mreturn\u001b[0m \u001b[0mobject\u001b[0m\u001b[1;33m.\u001b[0m\u001b[0m__getattribute__\u001b[0m\u001b[1;33m(\u001b[0m\u001b[0mself\u001b[0m\u001b[1;33m,\u001b[0m \u001b[0mname\u001b[0m\u001b[1;33m)\u001b[0m\u001b[1;33m\u001b[0m\u001b[1;33m\u001b[0m\u001b[0m\n\u001b[0m\u001b[0;32m   5488\u001b[0m \u001b[1;33m\u001b[0m\u001b[0m\n\u001b[0;32m   5489\u001b[0m     \u001b[1;32mdef\u001b[0m \u001b[0m__setattr__\u001b[0m\u001b[1;33m(\u001b[0m\u001b[0mself\u001b[0m\u001b[1;33m,\u001b[0m \u001b[0mname\u001b[0m\u001b[1;33m:\u001b[0m \u001b[0mstr\u001b[0m\u001b[1;33m,\u001b[0m \u001b[0mvalue\u001b[0m\u001b[1;33m)\u001b[0m \u001b[1;33m->\u001b[0m \u001b[1;32mNone\u001b[0m\u001b[1;33m:\u001b[0m\u001b[1;33m\u001b[0m\u001b[1;33m\u001b[0m\u001b[0m\n",
      "\u001b[1;31mAttributeError\u001b[0m: 'Series' object has no attribute 'split'"
     ]
    }
   ],
   "source": [
    "tmp['sec'][1:-1].split(\",\")"
   ]
  },
  {
   "cell_type": "code",
   "execution_count": 12,
   "id": "99005581-cdde-472f-b8b8-d79adb968151",
   "metadata": {},
   "outputs": [],
   "source": [
    "for i in range(len(tmp)):\n",
    "    if len(tmp.loc[i, 'sec'][1:-1].split(\",\"))!=2:\n",
    "        print(tmp.loc[i,'sec'])\n",
    "        print(i)"
   ]
  },
  {
   "cell_type": "code",
   "execution_count": 8,
   "id": "a0509304-3df1-4a74-ae92-b63aacfbe4ee",
   "metadata": {},
   "outputs": [],
   "source": [
    "tmp.loc[98,'sec'] = [152.39000000000001, 153.3]"
   ]
  },
  {
   "cell_type": "code",
   "execution_count": 10,
   "id": "42367cdf-d548-46a6-8c61-f6c6bed8969f",
   "metadata": {},
   "outputs": [],
   "source": [
    "tmp.to_csv(path)"
   ]
  },
  {
   "cell_type": "code",
   "execution_count": 11,
   "id": "79783dd3-7697-4ab9-9e1c-901ff6336bd9",
   "metadata": {},
   "outputs": [],
   "source": [
    "tmp = pd.read_csv(path)"
   ]
  },
  {
   "cell_type": "code",
   "execution_count": null,
   "id": "84495a2c-43d9-4e09-bd08-0bb21c0f5876",
   "metadata": {},
   "outputs": [],
   "source": []
  },
  {
   "cell_type": "code",
   "execution_count": null,
   "id": "06b4a2c3-9ac9-4b2a-80c7-c9fed10399ca",
   "metadata": {},
   "outputs": [],
   "source": []
  },
  {
   "cell_type": "code",
   "execution_count": null,
   "id": "153309b0-e2cf-414f-95e8-9efb0d08014d",
   "metadata": {},
   "outputs": [],
   "source": []
  },
  {
   "cell_type": "code",
   "execution_count": null,
   "id": "c49c6f25-744c-4069-9263-7d93faad21d2",
   "metadata": {},
   "outputs": [],
   "source": []
  },
  {
   "cell_type": "code",
   "execution_count": null,
   "id": "4246537a-d82c-426b-a54e-09fd5eeabba1",
   "metadata": {},
   "outputs": [],
   "source": []
  },
  {
   "cell_type": "code",
   "execution_count": null,
   "id": "8dfd5877-55e0-4684-ab2a-7e3c6b8e5dd4",
   "metadata": {},
   "outputs": [],
   "source": []
  },
  {
   "cell_type": "code",
   "execution_count": null,
   "id": "9cfa3c18-b9bb-4fbe-9ba8-670d19eb162c",
   "metadata": {},
   "outputs": [],
   "source": []
  },
  {
   "cell_type": "code",
   "execution_count": null,
   "id": "662fa732-5279-45dd-8427-634a3766820f",
   "metadata": {},
   "outputs": [],
   "source": []
  },
  {
   "cell_type": "code",
   "execution_count": null,
   "id": "73f1c673-d92b-4d3e-b405-179749b54640",
   "metadata": {},
   "outputs": [],
   "source": []
  },
  {
   "cell_type": "code",
   "execution_count": null,
   "id": "6003e4d6-cd00-484e-a49f-7e2af4a8f281",
   "metadata": {},
   "outputs": [],
   "source": []
  }
 ],
 "metadata": {
  "kernelspec": {
   "display_name": "Python 3 (ipykernel)",
   "language": "python",
   "name": "python3"
  },
  "language_info": {
   "codemirror_mode": {
    "name": "ipython",
    "version": 3
   },
   "file_extension": ".py",
   "mimetype": "text/x-python",
   "name": "python",
   "nbconvert_exporter": "python",
   "pygments_lexer": "ipython3",
   "version": "3.9.18"
  }
 },
 "nbformat": 4,
 "nbformat_minor": 5
}
