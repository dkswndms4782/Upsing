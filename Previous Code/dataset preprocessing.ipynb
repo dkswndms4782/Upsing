{
 "cells": [
  {
   "cell_type": "markdown",
   "metadata": {
    "id": "6q_gTlX8Tnpi"
   },
   "source": [
    "참고사이트 : https://towardsdatascience.com/audio-deep-learning-made-simple-sound-classification-step-by-step-cebc936bbe5 "
   ]
  },
  {
   "cell_type": "code",
   "execution_count": null,
   "metadata": {
    "colab": {
     "base_uri": "https://localhost:8080/"
    },
    "executionInfo": {
     "elapsed": 33448,
     "status": "ok",
     "timestamp": 1675845332065,
     "user": {
      "displayName": "모디 다람쥐 TV",
      "userId": "05503729598942859838"
     },
     "user_tz": -540
    },
    "id": "nV5AB-HfKD4O",
    "outputId": "298e1161-3250-4c9d-9bb5-4d07aee56a31"
   },
   "outputs": [
    {
     "name": "stdout",
     "output_type": "stream",
     "text": [
      "Mounted at /content/drive/\n"
     ]
    }
   ],
   "source": [
    "from google.colab import drive\n",
    "drive.mount('/content/drive/')"
   ]
  },
  {
   "cell_type": "code",
   "execution_count": null,
   "metadata": {
    "id": "bnWV_kNwFAbG"
   },
   "outputs": [],
   "source": [
    "# 데이터 로더를 위한 데이터 경로 csv파일 만들기.\n",
    "from pandas import DataFrame, Series\n",
    "import pandas as pd\n",
    "import glob\n",
    "import re\n",
    "import torchaudio\n",
    "\n",
    "techniques = ['belt','breathy','lip_trill','vibrato','vocal_fry'] # ['fast_forte','fast_piano', 'forte','inhaled',  'messa','pp','slow_forte','slow_piano','spoken','trill']\n",
    "train_singers = ['f1','f3','f4','f5','f6','f7','f9',\"m1\",\"m2\",\"m4\",\"m6\",\"m7\",\"m8\",\"m9\",\"m11\"]\n",
    "test_singers = ['f2','f8',\"m3\",\"m5\",\"m10\"]\n",
    "\n",
    "train_df = pd.DataFrame(columns = {'path','singer','technique', 'length'})\n",
    "test_df = pd.DataFrame(columns = {'path','singer','technique', 'length'})\n",
    "\n",
    "# 여기서 train이랑 test나눠서 df 만들기\n",
    "path = \"/content/drive/MyDrive/Startup_Hackathon_Jarvis/data_by_technique/\"\n",
    "for technique in techniques:\n",
    "\n",
    "  file_list =  glob.glob(path + technique + \"/*.wav\")\n",
    "\n",
    "  for i in file_list:\n",
    "    singer = re.findall(r'[mf][0-9]', i)\n",
    "    sig, sr = torchaudio.load(i)\n",
    "    length = sig.shape[1]/sr\n",
    "\n",
    "    if not len(singer): continue\n",
    "\n",
    "    if singer[0] in test_singers:\n",
    "      test_df = test_df.append({'path': i,'singer': singer[0],'technique': technique,'length' : length}, ignore_index = True)\n",
    "    \n",
    "    elif singer[0] in train_singers:\n",
    "      train_df = train_df.append({'path': i,'singer': singer[0],'technique': technique,'length' : length}, ignore_index = True)\n",
    "\n",
    "train_df.to_csv(\"/content/drive/MyDrive/Startup_Hackathon_Jarvis/train_df.csv\")\n",
    "test_df.to_csv(\"/content/drive/MyDrive/Startup_Hackathon_Jarvis/test_df.csv\")"
   ]
  },
  {
   "cell_type": "markdown",
   "metadata": {
    "id": "Ho-54DcFLe-E"
   },
   "source": [
    "# 0) EDA"
   ]
  },
  {
   "cell_type": "code",
   "execution_count": null,
   "metadata": {
    "colab": {
     "base_uri": "https://localhost:8080/",
     "height": 206
    },
    "executionInfo": {
     "elapsed": 565,
     "status": "ok",
     "timestamp": 1675831203037,
     "user": {
      "displayName": "DK D",
      "userId": "10687755219747411266"
     },
     "user_tz": -540
    },
    "id": "cIFR6jArK1Tj",
    "outputId": "488b0846-8a90-4ca5-8a51-31d03e3f42e1"
   },
   "outputs": [
    {
     "data": {
      "text/html": [
       "\n",
       "  <div id=\"df-dc9c68a7-88e1-4dd0-96d7-fafb5d196812\">\n",
       "    <div class=\"colab-df-container\">\n",
       "      <div>\n",
       "<style scoped>\n",
       "    .dataframe tbody tr th:only-of-type {\n",
       "        vertical-align: middle;\n",
       "    }\n",
       "\n",
       "    .dataframe tbody tr th {\n",
       "        vertical-align: top;\n",
       "    }\n",
       "\n",
       "    .dataframe thead th {\n",
       "        text-align: right;\n",
       "    }\n",
       "</style>\n",
       "<table border=\"1\" class=\"dataframe\">\n",
       "  <thead>\n",
       "    <tr style=\"text-align: right;\">\n",
       "      <th></th>\n",
       "      <th>length</th>\n",
       "      <th>technique</th>\n",
       "      <th>singer</th>\n",
       "      <th>path</th>\n",
       "    </tr>\n",
       "  </thead>\n",
       "  <tbody>\n",
       "    <tr>\n",
       "      <th>0</th>\n",
       "      <td>6.617279</td>\n",
       "      <td>belt</td>\n",
       "      <td>f9</td>\n",
       "      <td>/content/drive/MyDrive/Startup_Hackathon_Jarvi...</td>\n",
       "    </tr>\n",
       "    <tr>\n",
       "      <th>1</th>\n",
       "      <td>4.958594</td>\n",
       "      <td>belt</td>\n",
       "      <td>f9</td>\n",
       "      <td>/content/drive/MyDrive/Startup_Hackathon_Jarvi...</td>\n",
       "    </tr>\n",
       "    <tr>\n",
       "      <th>2</th>\n",
       "      <td>6.157279</td>\n",
       "      <td>belt</td>\n",
       "      <td>f9</td>\n",
       "      <td>/content/drive/MyDrive/Startup_Hackathon_Jarvi...</td>\n",
       "    </tr>\n",
       "    <tr>\n",
       "      <th>3</th>\n",
       "      <td>7.021859</td>\n",
       "      <td>belt</td>\n",
       "      <td>f7</td>\n",
       "      <td>/content/drive/MyDrive/Startup_Hackathon_Jarvi...</td>\n",
       "    </tr>\n",
       "    <tr>\n",
       "      <th>4</th>\n",
       "      <td>9.040091</td>\n",
       "      <td>belt</td>\n",
       "      <td>f7</td>\n",
       "      <td>/content/drive/MyDrive/Startup_Hackathon_Jarvi...</td>\n",
       "    </tr>\n",
       "  </tbody>\n",
       "</table>\n",
       "</div>\n",
       "      <button class=\"colab-df-convert\" onclick=\"convertToInteractive('df-dc9c68a7-88e1-4dd0-96d7-fafb5d196812')\"\n",
       "              title=\"Convert this dataframe to an interactive table.\"\n",
       "              style=\"display:none;\">\n",
       "        \n",
       "  <svg xmlns=\"http://www.w3.org/2000/svg\" height=\"24px\"viewBox=\"0 0 24 24\"\n",
       "       width=\"24px\">\n",
       "    <path d=\"M0 0h24v24H0V0z\" fill=\"none\"/>\n",
       "    <path d=\"M18.56 5.44l.94 2.06.94-2.06 2.06-.94-2.06-.94-.94-2.06-.94 2.06-2.06.94zm-11 1L8.5 8.5l.94-2.06 2.06-.94-2.06-.94L8.5 2.5l-.94 2.06-2.06.94zm10 10l.94 2.06.94-2.06 2.06-.94-2.06-.94-.94-2.06-.94 2.06-2.06.94z\"/><path d=\"M17.41 7.96l-1.37-1.37c-.4-.4-.92-.59-1.43-.59-.52 0-1.04.2-1.43.59L10.3 9.45l-7.72 7.72c-.78.78-.78 2.05 0 2.83L4 21.41c.39.39.9.59 1.41.59.51 0 1.02-.2 1.41-.59l7.78-7.78 2.81-2.81c.8-.78.8-2.07 0-2.86zM5.41 20L4 18.59l7.72-7.72 1.47 1.35L5.41 20z\"/>\n",
       "  </svg>\n",
       "      </button>\n",
       "      \n",
       "  <style>\n",
       "    .colab-df-container {\n",
       "      display:flex;\n",
       "      flex-wrap:wrap;\n",
       "      gap: 12px;\n",
       "    }\n",
       "\n",
       "    .colab-df-convert {\n",
       "      background-color: #E8F0FE;\n",
       "      border: none;\n",
       "      border-radius: 50%;\n",
       "      cursor: pointer;\n",
       "      display: none;\n",
       "      fill: #1967D2;\n",
       "      height: 32px;\n",
       "      padding: 0 0 0 0;\n",
       "      width: 32px;\n",
       "    }\n",
       "\n",
       "    .colab-df-convert:hover {\n",
       "      background-color: #E2EBFA;\n",
       "      box-shadow: 0px 1px 2px rgba(60, 64, 67, 0.3), 0px 1px 3px 1px rgba(60, 64, 67, 0.15);\n",
       "      fill: #174EA6;\n",
       "    }\n",
       "\n",
       "    [theme=dark] .colab-df-convert {\n",
       "      background-color: #3B4455;\n",
       "      fill: #D2E3FC;\n",
       "    }\n",
       "\n",
       "    [theme=dark] .colab-df-convert:hover {\n",
       "      background-color: #434B5C;\n",
       "      box-shadow: 0px 1px 3px 1px rgba(0, 0, 0, 0.15);\n",
       "      filter: drop-shadow(0px 1px 2px rgba(0, 0, 0, 0.3));\n",
       "      fill: #FFFFFF;\n",
       "    }\n",
       "  </style>\n",
       "\n",
       "      <script>\n",
       "        const buttonEl =\n",
       "          document.querySelector('#df-dc9c68a7-88e1-4dd0-96d7-fafb5d196812 button.colab-df-convert');\n",
       "        buttonEl.style.display =\n",
       "          google.colab.kernel.accessAllowed ? 'block' : 'none';\n",
       "\n",
       "        async function convertToInteractive(key) {\n",
       "          const element = document.querySelector('#df-dc9c68a7-88e1-4dd0-96d7-fafb5d196812');\n",
       "          const dataTable =\n",
       "            await google.colab.kernel.invokeFunction('convertToInteractive',\n",
       "                                                     [key], {});\n",
       "          if (!dataTable) return;\n",
       "\n",
       "          const docLinkHtml = 'Like what you see? Visit the ' +\n",
       "            '<a target=\"_blank\" href=https://colab.research.google.com/notebooks/data_table.ipynb>data table notebook</a>'\n",
       "            + ' to learn more about interactive tables.';\n",
       "          element.innerHTML = '';\n",
       "          dataTable['output_type'] = 'display_data';\n",
       "          await google.colab.output.renderOutput(dataTable, element);\n",
       "          const docLink = document.createElement('div');\n",
       "          docLink.innerHTML = docLinkHtml;\n",
       "          element.appendChild(docLink);\n",
       "        }\n",
       "      </script>\n",
       "    </div>\n",
       "  </div>\n",
       "  "
      ],
      "text/plain": [
       "     length technique singer  \\\n",
       "0  6.617279      belt     f9   \n",
       "1  4.958594      belt     f9   \n",
       "2  6.157279      belt     f9   \n",
       "3  7.021859      belt     f7   \n",
       "4  9.040091      belt     f7   \n",
       "\n",
       "                                                path  \n",
       "0  /content/drive/MyDrive/Startup_Hackathon_Jarvi...  \n",
       "1  /content/drive/MyDrive/Startup_Hackathon_Jarvi...  \n",
       "2  /content/drive/MyDrive/Startup_Hackathon_Jarvi...  \n",
       "3  /content/drive/MyDrive/Startup_Hackathon_Jarvi...  \n",
       "4  /content/drive/MyDrive/Startup_Hackathon_Jarvi...  "
      ]
     },
     "execution_count": 92,
     "metadata": {},
     "output_type": "execute_result"
    }
   ],
   "source": [
    "train_df.head()"
   ]
  },
  {
   "cell_type": "code",
   "execution_count": null,
   "metadata": {
    "colab": {
     "base_uri": "https://localhost:8080/",
     "height": 453
    },
    "executionInfo": {
     "elapsed": 631,
     "status": "ok",
     "timestamp": 1675831208802,
     "user": {
      "displayName": "DK D",
      "userId": "10687755219747411266"
     },
     "user_tz": -540
    },
    "id": "h8tBdUYKLivT",
    "outputId": "000eabdc-e2a9-4a50-dfff-1132b1d240e4"
   },
   "outputs": [
    {
     "data": {
      "image/png": "[encoded data removed]",
      "text/plain": [
       "<Figure size 720x432 with 1 Axes>"
      ]
     },
     "metadata": {
      "needs_background": "light"
     },
     "output_type": "display_data"
    }
   ],
   "source": [
    "tmp = train_df[\"technique\"].value_counts()\n",
    "fig = plt.figure(figsize=(10,6))\n",
    "plt.plot(tmp)\n",
    "plt.title(\"train techniques\", fontsize = 25)\n",
    "plt.xlabel(\"techniques\", fontsize =15)\n",
    "plt.ylabel(\"cnt\", fontsize = 15)\n",
    "plt.xticks(rotation = 90)\n",
    "fig.show() "
   ]
  },
  {
   "cell_type": "code",
   "execution_count": null,
   "metadata": {
    "colab": {
     "base_uri": "https://localhost:8080/",
     "height": 453
    },
    "executionInfo": {
     "elapsed": 780,
     "status": "ok",
     "timestamp": 1675831209579,
     "user": {
      "displayName": "DK D",
      "userId": "10687755219747411266"
     },
     "user_tz": -540
    },
    "id": "3XqG9lI4MDum",
    "outputId": "2d282137-18d6-4d75-921d-de9eb5e2f126"
   },
   "outputs": [
    {
     "data": {
      "image/png": "[encoded data removed]",
      "text/plain": [
       "<Figure size 720x432 with 1 Axes>"
      ]
     },
     "metadata": {
      "needs_background": "light"
     },
     "output_type": "display_data"
    }
   ],
   "source": [
    "tmp = test_df[\"technique\"].value_counts()\n",
    "fig = plt.figure(figsize=(10,6))\n",
    "plt.plot(tmp)\n",
    "plt.title(\"test techniques\", fontsize = 25)\n",
    "plt.xlabel(\"techniques\", fontsize =15)\n",
    "plt.ylabel(\"cnt\", fontsize = 15)\n",
    "plt.xticks(rotation = 90)\n",
    "fig.show()"
   ]
  },
  {
   "cell_type": "code",
   "execution_count": null,
   "metadata": {
    "colab": {
     "base_uri": "https://localhost:8080/"
    },
    "executionInfo": {
     "elapsed": 2,
     "status": "ok",
     "timestamp": 1675831234966,
     "user": {
      "displayName": "DK D",
      "userId": "10687755219747411266"
     },
     "user_tz": -540
    },
    "id": "EMH8WRw0SvLb",
    "outputId": "b7266ffe-3386-4847-efcf-6fa7c511dd6b"
   },
   "outputs": [
    {
     "data": {
      "text/plain": [
       "count    845.000000\n",
       "mean       9.245670\n",
       "std        4.960336\n",
       "min        3.508186\n",
       "25%        6.682925\n",
       "50%        8.260816\n",
       "75%       10.230794\n",
       "max       48.102449\n",
       "Name: length, dtype: float64"
      ]
     },
     "execution_count": 96,
     "metadata": {},
     "output_type": "execute_result"
    }
   ],
   "source": [
    "train_df['length'].describe()"
   ]
  },
  {
   "cell_type": "markdown",
   "metadata": {
    "id": "8rU1Uy-elz_v"
   },
   "source": [
    "# 1) Data Util"
   ]
  },
  {
   "cell_type": "code",
   "execution_count": null,
   "metadata": {
    "id": "W0Wct2NUW6Dr"
   },
   "outputs": [],
   "source": [
    "# Read audio from a file\n",
    "import math, random\n",
    "import torch\n",
    "import torchaudio\n",
    "from torchaudio import transforms\n",
    "from IPython.display import Audio\n",
    "from pandas import DataFrame, Series\n",
    "import pandas as pd\n",
    "import numpy as np\n",
    "\n",
    "class AudioUtil():\n",
    "  # Load an audio file. Return the signal as a tensor and the sample rate\n",
    "  @staticmethod\n",
    "  def open(audio_file):\n",
    "    sig, sr = torchaudio.load(audio_file)\n",
    "    return (sig, sr)\n",
    "\n",
    "  @staticmethod\n",
    "  def standardize(aud):\n",
    "    sig, sr = aud\n",
    "    mean = sig.mean(axis = 1)\n",
    "    std = sig.std(axis = 1)\n",
    "    standardized_sig = (sig - mean) / std\n",
    "    return (standardized_sig, sr)\n",
    "\n",
    "  # Convert to two channels\n",
    "  # Convert the given audio to the desired number of channels\n",
    "  @staticmethod\n",
    "  def rechannel(aud, new_channel):\n",
    "    sig,sr = aud\n",
    "\n",
    "    if(sig.shape[0] == new_channel):\n",
    "      return aud # Nothing to do\n",
    "\n",
    "    if (new_channel == 1):\n",
    "      # Convert from stereo to mono by selecting only the first channel\n",
    "      resig = sig[:1,:]\n",
    "    else:\n",
    "      # Convert from mono to stereo by duplicating the first channel\n",
    "      resig = torch.cat([sig,sig])\n",
    "\n",
    "    return (resig, sr)\n",
    "    \n",
    "  # Standardize sampling rate\n",
    "  # 보통은 44100Hz로 데이터를 구성하며 이는 1초의 오디오가 44100 크기의 배열을 가지는 음성 파일을 뜻함. \n",
    "  @staticmethod\n",
    "  def resample(aud, newsr):\n",
    "    sig, sr = aud\n",
    "\n",
    "    if (sr == newsr):\n",
    "      # Nothing to do\n",
    "      return aud\n",
    "\n",
    "    num_channels = sig.shape[0]\n",
    "    # Resample first channel\n",
    "    resig = torchaudio.transforms.Resample(sr, newsr)(sig[:1,:])\n",
    "    if (num_channels > 1):\n",
    "      # Resample the second channel and merge both channels\n",
    "      retwo = torchaudio.transforms.Resample(sr, newsr)(sig[1:,:])\n",
    "      resig = torch.cat([resig, retwo])\n",
    "\n",
    "    return ((resig, newsr))\n",
    "\n",
    "  # Resize to the same lenth\n",
    "  @staticmethod\n",
    "  def pad_trunc(aud, max_ms): # our papers max_ms == 3000ms\n",
    "    sig, sr = aud\n",
    "    num_rows, sig_len = sig.shape # 2, 291822\n",
    "    max_len = sr//1000 * max_ms # 44 * 3000 == 132000\n",
    "\n",
    "    if (sig_len > max_len):\n",
    "      ####### 이부분 수정 필요 ######\n",
    "      # 현재 우리는 non-overlapping하게 3초씩 데이터 truncation한거라 이에 맞게 코드 수정 요함. \n",
    "      sig = sig[:,:max_len]\n",
    "    \n",
    "    elif (sig_len < max_len):\n",
    "      pad_begin_len = random.randint(0,max_len - sig_len)\n",
    "      pad_end_len = max_len - sig_len - pad_begin_len\n",
    "\n",
    "      # Pad with 0s\n",
    "      pad_begin = torch.zeros((num_rows, pad_begin_len))\n",
    "      pad_end = torch.zeros((num_rows, pad_end_len))\n",
    "    return (sig, sr)\n",
    "\n",
    "  # Mel Spectrogram\n",
    "  # Generate a Spectrogram\n",
    "  def spectro_gram(aud, n_mels=64, n_fft=1024, hop_len=None):\n",
    "    sig, sr = aud\n",
    "    top_db = 80\n",
    "\n",
    "    # spec has shape [channel, n_mels, time], where channel is mono, stereo etc\n",
    "    # n_fft = 한번 fft를 해 줄 만큼의 sequence 길이. length of the windowed signal after padding with zeros. \n",
    "    # hop_length : window간의 거64리\n",
    "    # win_length : window길이\n",
    "    # mel filter bank를 short time Fourier Transform한 결과에 곱한 후 db로 magnitude를 바꿔 준다면 mel spectrogram완성.\n",
    "    # n_mels : Number of mel filterbanks.\n",
    "    # Mel-filter의 기본 아이디어는 사람의 청력은 1000Hz 이상의 frequency에 대해서는 덜 민감하므로 1000Hz까지는 Linear하게 그 이상은 Log scale로 변환해주자! 이다. \n",
    "    spec = transforms.MelSpectrogram(sr, n_fft=n_fft, hop_length=hop_len, n_mels=n_mels)(sig)\n",
    "\n",
    "    ##### 더 밝게 mel-spectrogram을 만들어주기 위함. \n",
    "    # Convert to decibels\n",
    "    spec = transforms.AmplitudeToDB(top_db = top_db)(spec)\n",
    "    return spec\n",
    "\n",
    "  @staticmethod\n",
    "  def spectro_preprocessing(spec):\n",
    "    \n",
    "\n",
    "    return "
   ]
  },
  {
   "cell_type": "markdown",
   "metadata": {
    "id": "ETjO2J-mW3Kb"
   },
   "source": [
    "# 2) Data Loader\n"
   ]
  },
  {
   "cell_type": "code",
   "execution_count": null,
   "metadata": {
    "id": "lLV_X-PAW3Mn"
   },
   "outputs": [],
   "source": [
    "from torch.utils.data import DataLoader, Dataset, random_split\n",
    "import torchaudio\n",
    "\n",
    "class SoundDS(Dataset):\n",
    "  def __init__(self, df):\n",
    "    self.df = df\n",
    "    self.duration = 3000\n",
    "    self.sr = 44100\n",
    "    self.channel = 1 # 논문에서는 channel 1, 3*44100짜리 데이터는 그냥 audio데이터\n",
    "\n",
    "  def __len__(self):\n",
    "    return len(self.df)\n",
    "\n",
    "  def __getitem__(self, idx):\n",
    "    audio_file = self.df.loc[idx, 'path']\n",
    "    label = self.df.loc[idx, 'technique']\n",
    "    \n",
    "    aud = AudioUtil.open(audio_file)\n",
    "    standardize_aud = AudioUtil.standardize(aud)\n",
    "    reaud = AudioUtil.resample(standardize_aud, self.sr)\n",
    "    rechan = AudioUtil.rechannel(reaud, self.channel)\n",
    "\n",
    "    dur_aud = AudioUtil.pad_trunc(rechan, self.duration)\n",
    "    sgram = AudioUtil.spectro_gram(dur_aud, n_mels=64, n_fft=1024, hop_len=None)\n",
    "    # aug_sgram = AudioUtil.spectro_augment(sgram)\n",
    "    return sgram, label"
   ]
  },
  {
   "cell_type": "markdown",
   "metadata": {
    "id": "ixdUJR9l7pSJ"
   },
   "source": [
    "### 데이터 확인"
   ]
  },
  {
   "cell_type": "code",
   "execution_count": null,
   "metadata": {
    "id": "3GKPgylz7L6f"
   },
   "outputs": [],
   "source": [
    "import matplotlib.pyplot as plt\n",
    "import librosa\n",
    "\n",
    "def plot_spectrogram(specgram, title=None):\n",
    "    fig, axs = plt.subplots(1, 1)\n",
    "    axs.set_title(title or \"Spectrogram (db)\")\n",
    "    im = axs.imshow(specgram, origin=\"lower\", aspect=\"auto\")\n",
    "    fig.colorbar(im, ax=axs)\n",
    "    plt.show(block=False)"
   ]
  },
  {
   "cell_type": "code",
   "execution_count": null,
   "metadata": {
    "colab": {
     "base_uri": "https://localhost:8080/",
     "height": 299
    },
    "executionInfo": {
     "elapsed": 993,
     "status": "ok",
     "timestamp": 1675832490830,
     "user": {
      "displayName": "DK D",
      "userId": "10687755219747411266"
     },
     "user_tz": -540
    },
    "id": "f6wO7C-5YzVY",
    "outputId": "081fc8cf-20b9-4217-d3b3-3585e6388339"
   },
   "outputs": [
    {
     "data": {
      "image/png": "[encoded data removed]",
      "text/plain": [
       "<Figure size 432x288 with 2 Axes>"
      ]
     },
     "metadata": {
      "needs_background": "light"
     },
     "output_type": "display_data"
    },
    {
     "name": "stdout",
     "output_type": "stream",
     "text": [
      "torch.Size([1, 64, 258])\n"
     ]
    }
   ],
   "source": [
    "train_df = pd.read_csv(\"/content/drive/MyDrive/Startup_Hackathon_Jarvis/train_df.csv\")\n",
    "test_df = pd.read_csv(\"/content/drive/MyDrive/Startup_Hackathon_Jarvis/test_df.csv\")\n",
    "\n",
    "tmpp = train_df.loc[0,'path']\n",
    "tmpl = train_df.loc[0,'technique']\n",
    "aud = AudioUtil.open(tmpp)\n",
    "reaud = AudioUtil.resample(aud, 44100)\n",
    "rechan = AudioUtil.rechannel(reaud,1)\n",
    "dur_aud = AudioUtil.pad_trunc(rechan, 3000)\n",
    "sgram = AudioUtil.spectro_gram(dur_aud, n_mels=64, n_fft=1024, hop_len=None)\n",
    "plot_spectrogram(sgram[0])\n",
    "print(sgram.shape)"
   ]
  },
  {
   "cell_type": "markdown",
   "metadata": {
    "id": "k8JWlFv4W3PM"
   },
   "source": [
    "# 3) Training"
   ]
  },
  {
   "cell_type": "code",
   "execution_count": null,
   "metadata": {
    "id": "Jc0H-YOkW3Ri"
   },
   "outputs": [],
   "source": [
    "train_df = pd.read_csv(\"/content/drive/MyDrive/Startup_Hackathon_Jarvis/train_df.csv\")\n",
    "test_df = pd.read_csv(\"/content/drive/MyDrive/Startup_Hackathon_Jarvis/test_df.csv\")\n",
    "\n",
    "train_ds = SoundDS(train_df)\n",
    "test_ds = SoundDS(test_df) \n",
    "train_dl = torch.utils.data.DataLoader(train_ds, batch_size=64, shuffle=True) # [64, 1, 64, 258]\n",
    "test_dl = torch.utils.data.DataLoader(test_ds, batch_size=64, shuffle=True) # (batch_sz, num_channels, Mel freq_bands, time_steps)"
   ]
  },
  {
   "cell_type": "code",
   "execution_count": null,
   "metadata": {
    "colab": {
     "base_uri": "https://localhost:8080/"
    },
    "executionInfo": {
     "elapsed": 5647,
     "status": "ok",
     "timestamp": 1675832698322,
     "user": {
      "displayName": "DK D",
      "userId": "10687755219747411266"
     },
     "user_tz": -540
    },
    "id": "zM147IWePJKf",
    "outputId": "da30ed04-60ae-4312-e9cf-97ccdc242615"
   },
   "outputs": [
    {
     "data": {
      "text/plain": [
       "device(type='cuda', index=0)"
      ]
     },
     "execution_count": 109,
     "metadata": {},
     "output_type": "execute_result"
    }
   ],
   "source": [
    "import torch.nn as nn\n",
    "import torch.nn.functional as F\n",
    "from torch.nn import init\n",
    "\n",
    "# ----------------------------\n",
    "# Audio Classification Model\n",
    "# ----------------------------\n",
    "class AudioClassifier (nn.Module):\n",
    "    # ----------------------------\n",
    "    # Build the model architecture\n",
    "    # ----------------------------\n",
    "    def __init__(self):\n",
    "        super().__init__()\n",
    "        conv_layers = []\n",
    "\n",
    "        # First Convolution Block with Relu and Batch Norm. Use Kaiming Initialization\n",
    "        self.conv1 = nn.Conv2d(1, 8, kernel_size=(5, 5), stride=(2, 2), padding=(2, 2))\n",
    "        self.relu1 = nn.ReLU()\n",
    "        self.bn1 = nn.BatchNorm2d(8)\n",
    "        init.kaiming_normal_(self.conv1.weight, a=0.1)\n",
    "        self.conv1.bias.data.zero_()\n",
    "        conv_layers += [self.conv1, self.relu1, self.bn1]\n",
    "\n",
    "        # Second Convolution Block\n",
    "        self.conv2 = nn.Conv2d(8, 16, kernel_size=(3, 3), stride=(2, 2), padding=(1, 1))\n",
    "        self.relu2 = nn.ReLU()\n",
    "        self.bn2 = nn.BatchNorm2d(16)\n",
    "        init.kaiming_normal_(self.conv2.weight, a=0.1)\n",
    "        self.conv2.bias.data.zero_()\n",
    "        conv_layers += [self.conv2, self.relu2, self.bn2]\n",
    "\n",
    "        # Second Convolution Block\n",
    "        self.conv3 = nn.Conv2d(16, 32, kernel_size=(3, 3), stride=(2, 2), padding=(1, 1))\n",
    "        self.relu3 = nn.ReLU()\n",
    "        self.bn3 = nn.BatchNorm2d(32)\n",
    "        init.kaiming_normal_(self.conv3.weight, a=0.1)\n",
    "        self.conv3.bias.data.zero_()\n",
    "        conv_layers += [self.conv3, self.relu3, self.bn3]\n",
    "\n",
    "        # Second Convolution Block\n",
    "        self.conv4 = nn.Conv2d(32, 64, kernel_size=(3, 3), stride=(2, 2), padding=(1, 1))\n",
    "        self.relu4 = nn.ReLU()\n",
    "        self.bn4 = nn.BatchNorm2d(64)\n",
    "        init.kaiming_normal_(self.conv4.weight, a=0.1)\n",
    "        self.conv4.bias.data.zero_()\n",
    "        conv_layers += [self.conv4, self.relu4, self.bn4]\n",
    "\n",
    "        # Linear Classifier\n",
    "        self.ap = nn.AdaptiveAvgPool2d(output_size=1)\n",
    "        self.lin = nn.Linear(in_features=64, out_features=5)\n",
    "\n",
    "        # Wrap the Convolutional Blocks\n",
    "        self.conv = nn.Sequential(*conv_layers)\n",
    " \n",
    "    # ----------------------------\n",
    "    # Forward pass computations\n",
    "    # ----------------------------\n",
    "    def forward(self, x):\n",
    "        # Run the convolutional blocks\n",
    "        x = self.conv(x)\n",
    "\n",
    "        # Adaptive pool and flatten for input to linear layer\n",
    "        x = self.ap(x)\n",
    "        x = x.view(x.shape[0], -1)\n",
    "\n",
    "        # Linear layer\n",
    "        x = self.lin(x)\n",
    "\n",
    "        # Final output\n",
    "        return x\n",
    "\n",
    "# Create the model and put it on the GPU if available\n",
    "myModel = AudioClassifier()\n",
    "device = torch.device(\"cuda:0\" if torch.cuda.is_available() else \"cpu\")\n",
    "myModel = myModel.to(device)\n",
    "# Check that it is on Cuda\n",
    "next(myModel.parameters()).device"
   ]
  },
  {
   "cell_type": "code",
   "execution_count": null,
   "metadata": {
    "id": "kQmkUM0rZFJF"
   },
   "outputs": [],
   "source": [
    "# ----------------------------\n",
    "# Training Loop\n",
    "# ----------------------------\n",
    "def training(model, train_dl, num_epochs):\n",
    "  # Loss Function, Optimizer and Scheduler\n",
    "  criterion = nn.CrossEntropyLoss()\n",
    "  optimizer = torch.optim.Adam(model.parameters(),lr=0.001)\n",
    "  scheduler = torch.optim.lr_scheduler.OneCycleLR(optimizer, max_lr=0.001,\n",
    "                                                steps_per_epoch=int(len(train_dl)),\n",
    "                                                epochs=num_epochs,\n",
    "                                                anneal_strategy='linear')\n",
    "\n",
    "  # Repeat for each epoch\n",
    "  for epoch in range(num_epochs):\n",
    "    running_loss = 0.0\n",
    "    correct_prediction = 0\n",
    "    total_prediction = 0\n",
    "\n",
    "    # Repeat for each batch in the training set\n",
    "    for i, data in enumerate(train_dl):\n",
    "        # Get the input features and target labels, and put them on the GPU\n",
    "        inputs, labels = data[0].to(device), data[1].to(device)\n",
    "\n",
    "        # Normalize the inputs\n",
    "        inputs_m, inputs_s = inputs.mean(), inputs.std()\n",
    "        inputs = (inputs - inputs_m) / inputs_s\n",
    "\n",
    "        # Zero the parameter gradients\n",
    "        optimizer.zero_grad()\n",
    "\n",
    "        # forward + backward + optimize\n",
    "        outputs = model(inputs)\n",
    "        loss = criterion(outputs, labels)\n",
    "        loss.backward()\n",
    "        optimizer.step()\n",
    "        scheduler.step()\n",
    "\n",
    "        # Keep stats for Loss and Accuracy\n",
    "        running_loss += loss.item()\n",
    "\n",
    "        # Get the predicted class with the highest score\n",
    "        _, prediction = torch.max(outputs,1)\n",
    "        # Count of predictions that matched the target label\n",
    "        correct_prediction += (prediction == labels).sum().item()\n",
    "        total_prediction += prediction.shape[0]\n",
    "\n",
    "        #if i % 10 == 0:    # print every 10 mini-batches\n",
    "        #    print('[%d, %5d] loss: %.3f' % (epoch + 1, i + 1, running_loss / 10))\n",
    "    \n",
    "    # Print stats at the end of the epoch\n",
    "    num_batches = len(train_dl)\n",
    "    avg_loss = running_loss / num_batches\n",
    "    acc = correct_prediction/total_prediction\n",
    "    print(f'Epoch: {epoch}, Loss: {avg_loss:.2f}, Accuracy: {acc:.2f}')\n",
    "\n",
    "  print('Finished Training')\n",
    "  \n",
    "num_epochs=10   # Just for demo, adjust this higher.\n",
    "training(myModel, train_dl, num_epochs)"
   ]
  },
  {
   "cell_type": "code",
   "execution_count": null,
   "metadata": {
    "id": "w5VR7QP_aMmB"
   },
   "outputs": [],
   "source": [
    "# ----------------------------\n",
    "# Inference\n",
    "# ----------------------------\n",
    "def inference (model, val_dl):\n",
    "  correct_prediction = 0\n",
    "  total_prediction = 0\n",
    "\n",
    "  # Disable gradient updates\n",
    "  with torch.no_grad():\n",
    "    for data in val_dl:\n",
    "      # Get the input features and target labels, and put them on the GPU\n",
    "      inputs, labels = data[0].to(device), data[1].to(device)\n",
    "\n",
    "      # Normalize the inputs\n",
    "      inputs_m, inputs_s = inputs.mean(), inputs.std()\n",
    "      inputs = (inputs - inputs_m) / inputs_s\n",
    "\n",
    "      # Get predictions\n",
    "      outputs = model(inputs)\n",
    "\n",
    "      # Get the predicted class with the highest score\n",
    "      _, prediction = torch.max(outputs,1)\n",
    "      # Count of predictions that matched the target label\n",
    "      correct_prediction += (prediction == labels).sum().item()\n",
    "      total_prediction += prediction.shape[0]\n",
    "    \n",
    "  acc = correct_prediction/total_prediction\n",
    "  print(f'Accuracy: {acc:.2f}, Total items: {total_prediction}')\n",
    "\n",
    "# Run inference on trained model with the validation set\n",
    "inference(myModel, train_dl)"
   ]
  }
 ],
 "metadata": {
  "accelerator": "GPU",
  "colab": {
   "provenance": [],
   "toc_visible": true
  },
  "gpuClass": "standard",
  "kernelspec": {
   "display_name": "Python 3 (ipykernel)",
   "language": "python",
   "name": "python3"
  },
  "language_info": {
   "codemirror_mode": {
    "name": "ipython",
    "version": 3
   },
   "file_extension": ".py",
   "mimetype": "text/x-python",
   "name": "python",
   "nbconvert_exporter": "python",
   "pygments_lexer": "ipython3",
   "version": "3.11.5"
  }
 },
 "nbformat": 4,
 "nbformat_minor": 4
}
